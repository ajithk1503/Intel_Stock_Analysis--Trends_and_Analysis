{
 "cells": [
  {
   "cell_type": "markdown",
   "id": "3ea64af2",
   "metadata": {
    "papermill": {
     "duration": 0.01625,
     "end_time": "2024-12-26T09:39:23.991302",
     "exception": false,
     "start_time": "2024-12-26T09:39:23.975052",
     "status": "completed"
    },
    "tags": []
   },
   "source": [
    "## Importing Libraries"
   ]
  },
  {
   "cell_type": "code",
   "execution_count": 1,
   "id": "cb122ba1",
   "metadata": {
    "execution": {
     "iopub.execute_input": "2024-12-26T09:39:24.025864Z",
     "iopub.status.busy": "2024-12-26T09:39:24.025526Z",
     "iopub.status.idle": "2024-12-26T09:39:25.163938Z",
     "shell.execute_reply": "2024-12-26T09:39:25.162909Z"
    },
    "papermill": {
     "duration": 1.157618,
     "end_time": "2024-12-26T09:39:25.165862",
     "exception": false,
     "start_time": "2024-12-26T09:39:24.008244",
     "status": "completed"
    },
    "tags": []
   },
   "outputs": [],
   "source": [
    "import numpy as np\n",
    "import pandas as pd\n",
    "import plotly.express as px\n",
    "import plotly.graph_objects as go\n",
    "import plotly.io as pio\n",
    "import warnings"
   ]
  },
  {
   "cell_type": "markdown",
   "id": "dbc56bef",
   "metadata": {
    "papermill": {
     "duration": 0.016357,
     "end_time": "2024-12-26T09:39:25.198768",
     "exception": false,
     "start_time": "2024-12-26T09:39:25.182411",
     "status": "completed"
    },
    "tags": []
   },
   "source": [
    "## Basic Important Settings"
   ]
  },
  {
   "cell_type": "code",
   "execution_count": 2,
   "id": "fb7de512",
   "metadata": {
    "execution": {
     "iopub.execute_input": "2024-12-26T09:39:25.233005Z",
     "iopub.status.busy": "2024-12-26T09:39:25.232395Z",
     "iopub.status.idle": "2024-12-26T09:39:25.432062Z",
     "shell.execute_reply": "2024-12-26T09:39:25.430998Z"
    },
    "papermill": {
     "duration": 0.218921,
     "end_time": "2024-12-26T09:39:25.434088",
     "exception": false,
     "start_time": "2024-12-26T09:39:25.215167",
     "status": "completed"
    },
    "tags": []
   },
   "outputs": [],
   "source": [
    "pio.renderers.default = 'iframe'\n",
    "warnings.filterwarnings(\"ignore\")"
   ]
  },
  {
   "cell_type": "markdown",
   "id": "383d1aba",
   "metadata": {
    "papermill": {
     "duration": 0.016013,
     "end_time": "2024-12-26T09:39:25.466665",
     "exception": false,
     "start_time": "2024-12-26T09:39:25.450652",
     "status": "completed"
    },
    "tags": []
   },
   "source": [
    "## Loading the Dataset"
   ]
  },
  {
   "cell_type": "code",
   "execution_count": 3,
   "id": "37254fed",
   "metadata": {
    "execution": {
     "iopub.execute_input": "2024-12-26T09:39:25.500512Z",
     "iopub.status.busy": "2024-12-26T09:39:25.500146Z",
     "iopub.status.idle": "2024-12-26T09:39:25.553595Z",
     "shell.execute_reply": "2024-12-26T09:39:25.552309Z"
    },
    "papermill": {
     "duration": 0.072853,
     "end_time": "2024-12-26T09:39:25.555696",
     "exception": false,
     "start_time": "2024-12-26T09:39:25.482843",
     "status": "completed"
    },
    "tags": []
   },
   "outputs": [],
   "source": [
    "df = pd.read_csv(\"/kaggle/input/intel-stock-data-1980-2024/data.csv\")"
   ]
  },
  {
   "cell_type": "markdown",
   "id": "3cc28fdc",
   "metadata": {
    "papermill": {
     "duration": 0.016325,
     "end_time": "2024-12-26T09:39:25.589023",
     "exception": false,
     "start_time": "2024-12-26T09:39:25.572698",
     "status": "completed"
    },
    "tags": []
   },
   "source": [
    "## Exploring the Dataset"
   ]
  },
  {
   "cell_type": "code",
   "execution_count": 4,
   "id": "af14e23b",
   "metadata": {
    "execution": {
     "iopub.execute_input": "2024-12-26T09:39:25.623034Z",
     "iopub.status.busy": "2024-12-26T09:39:25.622631Z",
     "iopub.status.idle": "2024-12-26T09:39:25.650395Z",
     "shell.execute_reply": "2024-12-26T09:39:25.649130Z"
    },
    "papermill": {
     "duration": 0.046991,
     "end_time": "2024-12-26T09:39:25.652319",
     "exception": false,
     "start_time": "2024-12-26T09:39:25.605328",
     "status": "completed"
    },
    "tags": []
   },
   "outputs": [
    {
     "name": "stdout",
     "output_type": "stream",
     "text": [
      "<class 'pandas.core.frame.DataFrame'>\n",
      "RangeIndex: 11289 entries, 0 to 11288\n",
      "Data columns (total 8 columns):\n",
      " #   Column        Non-Null Count  Dtype  \n",
      "---  ------        --------------  -----  \n",
      " 0   Date          11289 non-null  object \n",
      " 1   Open          11289 non-null  float64\n",
      " 2   High          11289 non-null  float64\n",
      " 3   Low           11289 non-null  float64\n",
      " 4   Close         11289 non-null  float64\n",
      " 5   Volume        11289 non-null  int64  \n",
      " 6   Dividends     11289 non-null  float64\n",
      " 7   Stock Splits  11289 non-null  float64\n",
      "dtypes: float64(6), int64(1), object(1)\n",
      "memory usage: 705.7+ KB\n"
     ]
    }
   ],
   "source": [
    "df.info()"
   ]
  },
  {
   "cell_type": "code",
   "execution_count": 5,
   "id": "26d98b09",
   "metadata": {
    "execution": {
     "iopub.execute_input": "2024-12-26T09:39:25.686975Z",
     "iopub.status.busy": "2024-12-26T09:39:25.686572Z",
     "iopub.status.idle": "2024-12-26T09:39:25.705601Z",
     "shell.execute_reply": "2024-12-26T09:39:25.704371Z"
    },
    "papermill": {
     "duration": 0.038444,
     "end_time": "2024-12-26T09:39:25.707365",
     "exception": false,
     "start_time": "2024-12-26T09:39:25.668921",
     "status": "completed"
    },
    "tags": []
   },
   "outputs": [
    {
     "data": {
      "text/html": [
       "<div>\n",
       "<style scoped>\n",
       "    .dataframe tbody tr th:only-of-type {\n",
       "        vertical-align: middle;\n",
       "    }\n",
       "\n",
       "    .dataframe tbody tr th {\n",
       "        vertical-align: top;\n",
       "    }\n",
       "\n",
       "    .dataframe thead th {\n",
       "        text-align: right;\n",
       "    }\n",
       "</style>\n",
       "<table border=\"1\" class=\"dataframe\">\n",
       "  <thead>\n",
       "    <tr style=\"text-align: right;\">\n",
       "      <th></th>\n",
       "      <th>Date</th>\n",
       "      <th>Open</th>\n",
       "      <th>High</th>\n",
       "      <th>Low</th>\n",
       "      <th>Close</th>\n",
       "      <th>Volume</th>\n",
       "      <th>Dividends</th>\n",
       "      <th>Stock Splits</th>\n",
       "    </tr>\n",
       "  </thead>\n",
       "  <tbody>\n",
       "    <tr>\n",
       "      <th>0</th>\n",
       "      <td>1980-03-17 00:00:00-05:00</td>\n",
       "      <td>0.181500</td>\n",
       "      <td>0.184404</td>\n",
       "      <td>0.181500</td>\n",
       "      <td>0.181500</td>\n",
       "      <td>10924800</td>\n",
       "      <td>0.0</td>\n",
       "      <td>0.0</td>\n",
       "    </tr>\n",
       "    <tr>\n",
       "      <th>1</th>\n",
       "      <td>1980-03-18 00:00:00-05:00</td>\n",
       "      <td>0.181500</td>\n",
       "      <td>0.182952</td>\n",
       "      <td>0.180048</td>\n",
       "      <td>0.180048</td>\n",
       "      <td>17068800</td>\n",
       "      <td>0.0</td>\n",
       "      <td>0.0</td>\n",
       "    </tr>\n",
       "    <tr>\n",
       "      <th>2</th>\n",
       "      <td>1980-03-19 00:00:00-05:00</td>\n",
       "      <td>0.184404</td>\n",
       "      <td>0.187308</td>\n",
       "      <td>0.184404</td>\n",
       "      <td>0.184404</td>\n",
       "      <td>18508800</td>\n",
       "      <td>0.0</td>\n",
       "      <td>0.0</td>\n",
       "    </tr>\n",
       "    <tr>\n",
       "      <th>3</th>\n",
       "      <td>1980-03-20 00:00:00-05:00</td>\n",
       "      <td>0.184403</td>\n",
       "      <td>0.186581</td>\n",
       "      <td>0.183678</td>\n",
       "      <td>0.183678</td>\n",
       "      <td>11174400</td>\n",
       "      <td>0.0</td>\n",
       "      <td>0.0</td>\n",
       "    </tr>\n",
       "    <tr>\n",
       "      <th>4</th>\n",
       "      <td>1980-03-21 00:00:00-05:00</td>\n",
       "      <td>0.180048</td>\n",
       "      <td>0.180048</td>\n",
       "      <td>0.177143</td>\n",
       "      <td>0.177143</td>\n",
       "      <td>12172800</td>\n",
       "      <td>0.0</td>\n",
       "      <td>0.0</td>\n",
       "    </tr>\n",
       "  </tbody>\n",
       "</table>\n",
       "</div>"
      ],
      "text/plain": [
       "                        Date      Open      High       Low     Close  \\\n",
       "0  1980-03-17 00:00:00-05:00  0.181500  0.184404  0.181500  0.181500   \n",
       "1  1980-03-18 00:00:00-05:00  0.181500  0.182952  0.180048  0.180048   \n",
       "2  1980-03-19 00:00:00-05:00  0.184404  0.187308  0.184404  0.184404   \n",
       "3  1980-03-20 00:00:00-05:00  0.184403  0.186581  0.183678  0.183678   \n",
       "4  1980-03-21 00:00:00-05:00  0.180048  0.180048  0.177143  0.177143   \n",
       "\n",
       "     Volume  Dividends  Stock Splits  \n",
       "0  10924800        0.0           0.0  \n",
       "1  17068800        0.0           0.0  \n",
       "2  18508800        0.0           0.0  \n",
       "3  11174400        0.0           0.0  \n",
       "4  12172800        0.0           0.0  "
      ]
     },
     "execution_count": 5,
     "metadata": {},
     "output_type": "execute_result"
    }
   ],
   "source": [
    "df.head()"
   ]
  },
  {
   "cell_type": "markdown",
   "id": "a80cab43",
   "metadata": {
    "papermill": {
     "duration": 0.016277,
     "end_time": "2024-12-26T09:39:25.740470",
     "exception": false,
     "start_time": "2024-12-26T09:39:25.724193",
     "status": "completed"
    },
    "tags": []
   },
   "source": [
    "## Data Preprocessing"
   ]
  },
  {
   "cell_type": "code",
   "execution_count": 6,
   "id": "643921aa",
   "metadata": {
    "execution": {
     "iopub.execute_input": "2024-12-26T09:39:25.774869Z",
     "iopub.status.busy": "2024-12-26T09:39:25.774537Z",
     "iopub.status.idle": "2024-12-26T09:39:25.847481Z",
     "shell.execute_reply": "2024-12-26T09:39:25.846390Z"
    },
    "papermill": {
     "duration": 0.092492,
     "end_time": "2024-12-26T09:39:25.849488",
     "exception": false,
     "start_time": "2024-12-26T09:39:25.756996",
     "status": "completed"
    },
    "tags": []
   },
   "outputs": [],
   "source": [
    "df['Date'] = pd.to_datetime(df['Date'], utc=True)\n",
    "\n",
    "df['Hour'] = df['Date'].dt.hour\n",
    "df['Minute'] = df['Date'].dt.minute\n",
    "df['Second'] = df['Date'].dt.second\n",
    "\n",
    "df['UTC_Offset'] = df['Date'].dt.tz\n",
    "\n",
    "# Separate day, month, and year\n",
    "df['Day'] = df['Date'].dt.day\n",
    "df['Month'] = df['Date'].dt.month\n",
    "df['Year'] = df['Date'].dt.year\n"
   ]
  },
  {
   "cell_type": "code",
   "execution_count": 7,
   "id": "3e778163",
   "metadata": {
    "execution": {
     "iopub.execute_input": "2024-12-26T09:39:25.885034Z",
     "iopub.status.busy": "2024-12-26T09:39:25.884622Z",
     "iopub.status.idle": "2024-12-26T09:39:25.900794Z",
     "shell.execute_reply": "2024-12-26T09:39:25.899678Z"
    },
    "papermill": {
     "duration": 0.036105,
     "end_time": "2024-12-26T09:39:25.902502",
     "exception": false,
     "start_time": "2024-12-26T09:39:25.866397",
     "status": "completed"
    },
    "tags": []
   },
   "outputs": [
    {
     "data": {
      "text/html": [
       "<div>\n",
       "<style scoped>\n",
       "    .dataframe tbody tr th:only-of-type {\n",
       "        vertical-align: middle;\n",
       "    }\n",
       "\n",
       "    .dataframe tbody tr th {\n",
       "        vertical-align: top;\n",
       "    }\n",
       "\n",
       "    .dataframe thead th {\n",
       "        text-align: right;\n",
       "    }\n",
       "</style>\n",
       "<table border=\"1\" class=\"dataframe\">\n",
       "  <thead>\n",
       "    <tr style=\"text-align: right;\">\n",
       "      <th></th>\n",
       "      <th>Date</th>\n",
       "      <th>Open</th>\n",
       "      <th>High</th>\n",
       "      <th>Low</th>\n",
       "      <th>Close</th>\n",
       "      <th>Volume</th>\n",
       "      <th>Dividends</th>\n",
       "      <th>Stock Splits</th>\n",
       "      <th>Hour</th>\n",
       "      <th>Minute</th>\n",
       "      <th>Second</th>\n",
       "      <th>UTC_Offset</th>\n",
       "      <th>Day</th>\n",
       "      <th>Month</th>\n",
       "      <th>Year</th>\n",
       "    </tr>\n",
       "  </thead>\n",
       "  <tbody>\n",
       "    <tr>\n",
       "      <th>0</th>\n",
       "      <td>1980-03-17 05:00:00+00:00</td>\n",
       "      <td>0.181500</td>\n",
       "      <td>0.184404</td>\n",
       "      <td>0.181500</td>\n",
       "      <td>0.181500</td>\n",
       "      <td>10924800</td>\n",
       "      <td>0.0</td>\n",
       "      <td>0.0</td>\n",
       "      <td>5</td>\n",
       "      <td>0</td>\n",
       "      <td>0</td>\n",
       "      <td>UTC</td>\n",
       "      <td>17</td>\n",
       "      <td>3</td>\n",
       "      <td>1980</td>\n",
       "    </tr>\n",
       "    <tr>\n",
       "      <th>1</th>\n",
       "      <td>1980-03-18 05:00:00+00:00</td>\n",
       "      <td>0.181500</td>\n",
       "      <td>0.182952</td>\n",
       "      <td>0.180048</td>\n",
       "      <td>0.180048</td>\n",
       "      <td>17068800</td>\n",
       "      <td>0.0</td>\n",
       "      <td>0.0</td>\n",
       "      <td>5</td>\n",
       "      <td>0</td>\n",
       "      <td>0</td>\n",
       "      <td>UTC</td>\n",
       "      <td>18</td>\n",
       "      <td>3</td>\n",
       "      <td>1980</td>\n",
       "    </tr>\n",
       "    <tr>\n",
       "      <th>2</th>\n",
       "      <td>1980-03-19 05:00:00+00:00</td>\n",
       "      <td>0.184404</td>\n",
       "      <td>0.187308</td>\n",
       "      <td>0.184404</td>\n",
       "      <td>0.184404</td>\n",
       "      <td>18508800</td>\n",
       "      <td>0.0</td>\n",
       "      <td>0.0</td>\n",
       "      <td>5</td>\n",
       "      <td>0</td>\n",
       "      <td>0</td>\n",
       "      <td>UTC</td>\n",
       "      <td>19</td>\n",
       "      <td>3</td>\n",
       "      <td>1980</td>\n",
       "    </tr>\n",
       "    <tr>\n",
       "      <th>3</th>\n",
       "      <td>1980-03-20 05:00:00+00:00</td>\n",
       "      <td>0.184403</td>\n",
       "      <td>0.186581</td>\n",
       "      <td>0.183678</td>\n",
       "      <td>0.183678</td>\n",
       "      <td>11174400</td>\n",
       "      <td>0.0</td>\n",
       "      <td>0.0</td>\n",
       "      <td>5</td>\n",
       "      <td>0</td>\n",
       "      <td>0</td>\n",
       "      <td>UTC</td>\n",
       "      <td>20</td>\n",
       "      <td>3</td>\n",
       "      <td>1980</td>\n",
       "    </tr>\n",
       "    <tr>\n",
       "      <th>4</th>\n",
       "      <td>1980-03-21 05:00:00+00:00</td>\n",
       "      <td>0.180048</td>\n",
       "      <td>0.180048</td>\n",
       "      <td>0.177143</td>\n",
       "      <td>0.177143</td>\n",
       "      <td>12172800</td>\n",
       "      <td>0.0</td>\n",
       "      <td>0.0</td>\n",
       "      <td>5</td>\n",
       "      <td>0</td>\n",
       "      <td>0</td>\n",
       "      <td>UTC</td>\n",
       "      <td>21</td>\n",
       "      <td>3</td>\n",
       "      <td>1980</td>\n",
       "    </tr>\n",
       "  </tbody>\n",
       "</table>\n",
       "</div>"
      ],
      "text/plain": [
       "                       Date      Open      High       Low     Close    Volume  \\\n",
       "0 1980-03-17 05:00:00+00:00  0.181500  0.184404  0.181500  0.181500  10924800   \n",
       "1 1980-03-18 05:00:00+00:00  0.181500  0.182952  0.180048  0.180048  17068800   \n",
       "2 1980-03-19 05:00:00+00:00  0.184404  0.187308  0.184404  0.184404  18508800   \n",
       "3 1980-03-20 05:00:00+00:00  0.184403  0.186581  0.183678  0.183678  11174400   \n",
       "4 1980-03-21 05:00:00+00:00  0.180048  0.180048  0.177143  0.177143  12172800   \n",
       "\n",
       "   Dividends  Stock Splits  Hour  Minute  Second UTC_Offset  Day  Month  Year  \n",
       "0        0.0           0.0     5       0       0        UTC   17      3  1980  \n",
       "1        0.0           0.0     5       0       0        UTC   18      3  1980  \n",
       "2        0.0           0.0     5       0       0        UTC   19      3  1980  \n",
       "3        0.0           0.0     5       0       0        UTC   20      3  1980  \n",
       "4        0.0           0.0     5       0       0        UTC   21      3  1980  "
      ]
     },
     "execution_count": 7,
     "metadata": {},
     "output_type": "execute_result"
    }
   ],
   "source": [
    "df.head()"
   ]
  },
  {
   "cell_type": "markdown",
   "id": "c4b9a838",
   "metadata": {
    "papermill": {
     "duration": 0.016685,
     "end_time": "2024-12-26T09:39:25.936285",
     "exception": false,
     "start_time": "2024-12-26T09:39:25.919600",
     "status": "completed"
    },
    "tags": []
   },
   "source": [
    "## Exploratory Data Analysis (EDA)"
   ]
  },
  {
   "cell_type": "markdown",
   "id": "5b8671ba",
   "metadata": {
    "papermill": {
     "duration": 0.016471,
     "end_time": "2024-12-26T09:39:25.970045",
     "exception": false,
     "start_time": "2024-12-26T09:39:25.953574",
     "status": "completed"
    },
    "tags": []
   },
   "source": [
    "### General Data Overview"
   ]
  },
  {
   "cell_type": "markdown",
   "id": "03145675",
   "metadata": {
    "papermill": {
     "duration": 0.016531,
     "end_time": "2024-12-26T09:39:26.003527",
     "exception": false,
     "start_time": "2024-12-26T09:39:25.986996",
     "status": "completed"
    },
    "tags": []
   },
   "source": [
    "**Missing Values**"
   ]
  },
  {
   "cell_type": "code",
   "execution_count": 8,
   "id": "ce607735",
   "metadata": {
    "execution": {
     "iopub.execute_input": "2024-12-26T09:39:26.038424Z",
     "iopub.status.busy": "2024-12-26T09:39:26.038031Z",
     "iopub.status.idle": "2024-12-26T09:39:26.047453Z",
     "shell.execute_reply": "2024-12-26T09:39:26.046362Z"
    },
    "papermill": {
     "duration": 0.028899,
     "end_time": "2024-12-26T09:39:26.049255",
     "exception": false,
     "start_time": "2024-12-26T09:39:26.020356",
     "status": "completed"
    },
    "tags": []
   },
   "outputs": [
    {
     "data": {
      "text/plain": [
       "Date            0\n",
       "Open            0\n",
       "High            0\n",
       "Low             0\n",
       "Close           0\n",
       "Volume          0\n",
       "Dividends       0\n",
       "Stock Splits    0\n",
       "Hour            0\n",
       "Minute          0\n",
       "Second          0\n",
       "UTC_Offset      0\n",
       "Day             0\n",
       "Month           0\n",
       "Year            0\n",
       "dtype: int64"
      ]
     },
     "execution_count": 8,
     "metadata": {},
     "output_type": "execute_result"
    }
   ],
   "source": [
    "df.isnull().sum()"
   ]
  },
  {
   "cell_type": "markdown",
   "id": "a0489ddc",
   "metadata": {
    "papermill": {
     "duration": 0.017222,
     "end_time": "2024-12-26T09:39:26.083563",
     "exception": false,
     "start_time": "2024-12-26T09:39:26.066341",
     "status": "completed"
    },
    "tags": []
   },
   "source": [
    "> **No Missing Values**"
   ]
  },
  {
   "cell_type": "markdown",
   "id": "af8e1675",
   "metadata": {
    "papermill": {
     "duration": 0.01676,
     "end_time": "2024-12-26T09:39:26.118442",
     "exception": false,
     "start_time": "2024-12-26T09:39:26.101682",
     "status": "completed"
    },
    "tags": []
   },
   "source": [
    "**Duplicates**"
   ]
  },
  {
   "cell_type": "code",
   "execution_count": 9,
   "id": "e3ec27a9",
   "metadata": {
    "execution": {
     "iopub.execute_input": "2024-12-26T09:39:26.153810Z",
     "iopub.status.busy": "2024-12-26T09:39:26.153426Z",
     "iopub.status.idle": "2024-12-26T09:39:26.168024Z",
     "shell.execute_reply": "2024-12-26T09:39:26.166847Z"
    },
    "papermill": {
     "duration": 0.03429,
     "end_time": "2024-12-26T09:39:26.169801",
     "exception": false,
     "start_time": "2024-12-26T09:39:26.135511",
     "status": "completed"
    },
    "tags": []
   },
   "outputs": [
    {
     "data": {
      "text/plain": [
       "0"
      ]
     },
     "execution_count": 9,
     "metadata": {},
     "output_type": "execute_result"
    }
   ],
   "source": [
    "df.duplicated().sum()"
   ]
  },
  {
   "cell_type": "markdown",
   "id": "83c9818d",
   "metadata": {
    "papermill": {
     "duration": 0.017192,
     "end_time": "2024-12-26T09:39:26.204279",
     "exception": false,
     "start_time": "2024-12-26T09:39:26.187087",
     "status": "completed"
    },
    "tags": []
   },
   "source": [
    "> **No Duplicates**"
   ]
  },
  {
   "cell_type": "markdown",
   "id": "250364ab",
   "metadata": {
    "papermill": {
     "duration": 0.01671,
     "end_time": "2024-12-26T09:39:26.238289",
     "exception": false,
     "start_time": "2024-12-26T09:39:26.221579",
     "status": "completed"
    },
    "tags": []
   },
   "source": [
    "**Outliers**"
   ]
  },
  {
   "cell_type": "code",
   "execution_count": 10,
   "id": "bb5b5b3d",
   "metadata": {
    "execution": {
     "iopub.execute_input": "2024-12-26T09:39:26.274521Z",
     "iopub.status.busy": "2024-12-26T09:39:26.274185Z",
     "iopub.status.idle": "2024-12-26T09:39:27.619589Z",
     "shell.execute_reply": "2024-12-26T09:39:27.618496Z"
    },
    "papermill": {
     "duration": 1.365545,
     "end_time": "2024-12-26T09:39:27.621348",
     "exception": false,
     "start_time": "2024-12-26T09:39:26.255803",
     "status": "completed"
    },
    "tags": []
   },
   "outputs": [
    {
     "data": {
      "text/html": [
       "<iframe\n",
       "    scrolling=\"no\"\n",
       "    width=\"100%\"\n",
       "    height=\"545px\"\n",
       "    src=\"iframe_figures/figure_10.html\"\n",
       "    frameborder=\"0\"\n",
       "    allowfullscreen\n",
       "></iframe>\n"
      ]
     },
     "metadata": {},
     "output_type": "display_data"
    }
   ],
   "source": [
    "fig_boxplot = px.box(df, y=['Open', 'High', 'Low', 'Close', 'Volume', 'Dividends', 'Stock Splits'],\n",
    "                     title=\"Boxplots for Numerical Columns\",\n",
    "                     template=\"plotly_dark\")\n",
    "fig_boxplot.update_layout(\n",
    "    plot_bgcolor='black',\n",
    "    paper_bgcolor='black',\n",
    "    font=dict(color='white')\n",
    ")\n",
    "fig_boxplot.show()"
   ]
  },
  {
   "cell_type": "markdown",
   "id": "94747845",
   "metadata": {
    "papermill": {
     "duration": 0.017137,
     "end_time": "2024-12-26T09:39:27.655852",
     "exception": false,
     "start_time": "2024-12-26T09:39:27.638715",
     "status": "completed"
    },
    "tags": []
   },
   "source": [
    "**Data Range (Earliest to Latest Date)**"
   ]
  },
  {
   "cell_type": "code",
   "execution_count": 11,
   "id": "418dda6a",
   "metadata": {
    "execution": {
     "iopub.execute_input": "2024-12-26T09:39:27.691511Z",
     "iopub.status.busy": "2024-12-26T09:39:27.691157Z",
     "iopub.status.idle": "2024-12-26T09:39:27.745662Z",
     "shell.execute_reply": "2024-12-26T09:39:27.744554Z"
    },
    "papermill": {
     "duration": 0.074567,
     "end_time": "2024-12-26T09:39:27.747417",
     "exception": false,
     "start_time": "2024-12-26T09:39:27.672850",
     "status": "completed"
    },
    "tags": []
   },
   "outputs": [
    {
     "data": {
      "text/html": [
       "<iframe\n",
       "    scrolling=\"no\"\n",
       "    width=\"100%\"\n",
       "    height=\"545px\"\n",
       "    src=\"iframe_figures/figure_11.html\"\n",
       "    frameborder=\"0\"\n",
       "    allowfullscreen\n",
       "></iframe>\n"
      ]
     },
     "metadata": {},
     "output_type": "display_data"
    }
   ],
   "source": [
    "date_range = [df['Date'].min(), df['Date'].max()]\n",
    "\n",
    "fig_date_range = go.Figure(\n",
    "    data=[go.Scatter(x=date_range, y=[0, 0], mode='lines+markers', marker=dict(color='green'))],\n",
    "    layout=go.Layout(\n",
    "        title=\"Date Range (Earliest to Latest)\",\n",
    "        xaxis=dict(title=\"Date\"),\n",
    "        yaxis=dict(title=\"Value\"),\n",
    "        plot_bgcolor='black',\n",
    "        paper_bgcolor='black',\n",
    "        font=dict(color='white')\n",
    "    )\n",
    ")\n",
    "fig_date_range.show()"
   ]
  },
  {
   "cell_type": "markdown",
   "id": "8b6f656f",
   "metadata": {
    "papermill": {
     "duration": 0.017076,
     "end_time": "2024-12-26T09:39:27.783050",
     "exception": false,
     "start_time": "2024-12-26T09:39:27.765974",
     "status": "completed"
    },
    "tags": []
   },
   "source": [
    "**Coverage Consistency - Checking for any gaps in dates**"
   ]
  },
  {
   "cell_type": "code",
   "execution_count": 12,
   "id": "cc15dfe6",
   "metadata": {
    "execution": {
     "iopub.execute_input": "2024-12-26T09:39:27.819453Z",
     "iopub.status.busy": "2024-12-26T09:39:27.819048Z",
     "iopub.status.idle": "2024-12-26T09:39:28.271098Z",
     "shell.execute_reply": "2024-12-26T09:39:28.270032Z"
    },
    "papermill": {
     "duration": 0.472232,
     "end_time": "2024-12-26T09:39:28.272777",
     "exception": false,
     "start_time": "2024-12-26T09:39:27.800545",
     "status": "completed"
    },
    "tags": []
   },
   "outputs": [
    {
     "data": {
      "text/html": [
       "<iframe\n",
       "    scrolling=\"no\"\n",
       "    width=\"100%\"\n",
       "    height=\"545px\"\n",
       "    src=\"iframe_figures/figure_12.html\"\n",
       "    frameborder=\"0\"\n",
       "    allowfullscreen\n",
       "></iframe>\n"
      ]
     },
     "metadata": {},
     "output_type": "display_data"
    }
   ],
   "source": [
    "date_coverage = pd.date_range(start=df['Date'].min(), end=df['Date'].max(), freq='D')\n",
    "missing_dates = set(date_coverage) - set(df['Date'])\n",
    "\n",
    "fig_coverage = go.Figure(\n",
    "    data=[go.Scatter(x=list(missing_dates), y=[1]*len(missing_dates), mode='markers', marker=dict(color='orange'))],\n",
    "    layout=go.Layout(\n",
    "        title=\"Missing Date Coverage\",\n",
    "        xaxis=dict(title=\"Missing Dates\"),\n",
    "        yaxis=dict(title=\"Missing Indicator\"),\n",
    "        plot_bgcolor='black',\n",
    "        paper_bgcolor='black',\n",
    "        font=dict(color='white')\n",
    "    )\n",
    ")\n",
    "fig_coverage.show()"
   ]
  },
  {
   "cell_type": "markdown",
   "id": "76243204",
   "metadata": {
    "papermill": {
     "duration": 0.017162,
     "end_time": "2024-12-26T09:39:28.308251",
     "exception": false,
     "start_time": "2024-12-26T09:39:28.291089",
     "status": "completed"
    },
    "tags": []
   },
   "source": [
    "### Trend Analysis"
   ]
  },
  {
   "cell_type": "markdown",
   "id": "4eeaaef6",
   "metadata": {
    "papermill": {
     "duration": 0.02189,
     "end_time": "2024-12-26T09:39:28.353283",
     "exception": false,
     "start_time": "2024-12-26T09:39:28.331393",
     "status": "completed"
    },
    "tags": []
   },
   "source": [
    "**Overall Trend of Close Prices**"
   ]
  },
  {
   "cell_type": "code",
   "execution_count": 13,
   "id": "7ee1b2a9",
   "metadata": {
    "execution": {
     "iopub.execute_input": "2024-12-26T09:39:28.395453Z",
     "iopub.status.busy": "2024-12-26T09:39:28.395050Z",
     "iopub.status.idle": "2024-12-26T09:39:28.641985Z",
     "shell.execute_reply": "2024-12-26T09:39:28.640782Z"
    },
    "papermill": {
     "duration": 0.270792,
     "end_time": "2024-12-26T09:39:28.644280",
     "exception": false,
     "start_time": "2024-12-26T09:39:28.373488",
     "status": "completed"
    },
    "tags": []
   },
   "outputs": [
    {
     "data": {
      "text/html": [
       "<iframe\n",
       "    scrolling=\"no\"\n",
       "    width=\"100%\"\n",
       "    height=\"545px\"\n",
       "    src=\"iframe_figures/figure_13.html\"\n",
       "    frameborder=\"0\"\n",
       "    allowfullscreen\n",
       "></iframe>\n"
      ]
     },
     "metadata": {},
     "output_type": "display_data"
    }
   ],
   "source": [
    "fig_trend = go.Figure(\n",
    "    data=[go.Scatter(x=df['Date'], y=df['Close'], mode='lines', line=dict(color='cyan'))],\n",
    "    layout=go.Layout(\n",
    "        title=\"Overall Trend of Close Prices\",\n",
    "        xaxis=dict(title=\"Date\"),\n",
    "        yaxis=dict(title=\"Close Price\"),\n",
    "        plot_bgcolor='black',\n",
    "        paper_bgcolor='black',\n",
    "        font=dict(color='white')\n",
    "    )\n",
    ")\n",
    "fig_trend.show()"
   ]
  },
  {
   "cell_type": "markdown",
   "id": "4fc1cd05",
   "metadata": {
    "papermill": {
     "duration": 0.01887,
     "end_time": "2024-12-26T09:39:28.683613",
     "exception": false,
     "start_time": "2024-12-26T09:39:28.664743",
     "status": "completed"
    },
    "tags": []
   },
   "source": [
    "**Periods of Significant Growth or Decline**"
   ]
  },
  {
   "cell_type": "code",
   "execution_count": 14,
   "id": "ada69964",
   "metadata": {
    "execution": {
     "iopub.execute_input": "2024-12-26T09:39:28.720422Z",
     "iopub.status.busy": "2024-12-26T09:39:28.720035Z",
     "iopub.status.idle": "2024-12-26T09:39:28.949182Z",
     "shell.execute_reply": "2024-12-26T09:39:28.948016Z"
    },
    "papermill": {
     "duration": 0.249871,
     "end_time": "2024-12-26T09:39:28.951114",
     "exception": false,
     "start_time": "2024-12-26T09:39:28.701243",
     "status": "completed"
    },
    "tags": []
   },
   "outputs": [
    {
     "data": {
      "text/html": [
       "<iframe\n",
       "    scrolling=\"no\"\n",
       "    width=\"100%\"\n",
       "    height=\"545px\"\n",
       "    src=\"iframe_figures/figure_14.html\"\n",
       "    frameborder=\"0\"\n",
       "    allowfullscreen\n",
       "></iframe>\n"
      ]
     },
     "metadata": {},
     "output_type": "display_data"
    }
   ],
   "source": [
    "fig_growth_decline = go.Figure()\n",
    "\n",
    "# Plotting the general trend line\n",
    "fig_growth_decline.add_trace(\n",
    "    go.Scatter(x=df['Date'], y=df['Close'], mode='lines', line=dict(color='cyan'), name=\"Close Price\")\n",
    ")\n",
    "\n",
    "# Highlight the period of significant growth (2019-2020)\n",
    "fig_growth_decline.add_trace(\n",
    "    go.Scatter(x=df[df['Date'].dt.year.between(2019, 2020)]['Date'],\n",
    "               y=df[df['Date'].dt.year.between(2019, 2020)]['Close'],\n",
    "               mode='lines',\n",
    "               line=dict(color='lime', width=3),\n",
    "               name=\"Growth 2019-2020\")\n",
    ")\n",
    "\n",
    "# Highlight the period of significant decline (2008 Financial Crisis)\n",
    "fig_growth_decline.add_trace(\n",
    "    go.Scatter(x=df[df['Date'].dt.year == 2008]['Date'],\n",
    "               y=df[df['Date'].dt.year == 2008]['Close'],\n",
    "               mode='lines',\n",
    "               line=dict(color='red', width=3),\n",
    "               name=\"Decline 2008\")\n",
    ")\n",
    "\n",
    "fig_growth_decline.update_layout(\n",
    "    title=\"Periods of Significant Growth or Decline\",\n",
    "    xaxis=dict(title=\"Date\"),\n",
    "    yaxis=dict(title=\"Close Price\"),\n",
    "    plot_bgcolor='black',\n",
    "    paper_bgcolor='black',\n",
    "    font=dict(color='white')\n",
    ")\n",
    "fig_growth_decline.show()"
   ]
  },
  {
   "cell_type": "markdown",
   "id": "edc7279a",
   "metadata": {
    "papermill": {
     "duration": 0.0175,
     "end_time": "2024-12-26T09:39:28.986621",
     "exception": false,
     "start_time": "2024-12-26T09:39:28.969121",
     "status": "completed"
    },
    "tags": []
   },
   "source": [
    "**Trends Before and After Major Financial Crises**"
   ]
  },
  {
   "cell_type": "code",
   "execution_count": 15,
   "id": "913e07f2",
   "metadata": {
    "execution": {
     "iopub.execute_input": "2024-12-26T09:39:29.023949Z",
     "iopub.status.busy": "2024-12-26T09:39:29.023546Z",
     "iopub.status.idle": "2024-12-26T09:39:29.348593Z",
     "shell.execute_reply": "2024-12-26T09:39:29.347507Z"
    },
    "papermill": {
     "duration": 0.345507,
     "end_time": "2024-12-26T09:39:29.350448",
     "exception": false,
     "start_time": "2024-12-26T09:39:29.004941",
     "status": "completed"
    },
    "tags": []
   },
   "outputs": [
    {
     "data": {
      "text/html": [
       "<iframe\n",
       "    scrolling=\"no\"\n",
       "    width=\"100%\"\n",
       "    height=\"545px\"\n",
       "    src=\"iframe_figures/figure_15.html\"\n",
       "    frameborder=\"0\"\n",
       "    allowfullscreen\n",
       "></iframe>\n"
      ]
     },
     "metadata": {},
     "output_type": "display_data"
    }
   ],
   "source": [
    "fig_crisis_comparison = go.Figure()\n",
    "\n",
    "# Plotting the general trend line\n",
    "fig_crisis_comparison.add_trace(\n",
    "    go.Scatter(x=df['Date'], y=df['Close'], mode='lines', line=dict(color='cyan'), name=\"Close Price\")\n",
    ")\n",
    "\n",
    "# Highlight the period before the 2008 crisis (2007)\n",
    "fig_crisis_comparison.add_trace(\n",
    "    go.Scatter(x=df[df['Date'].dt.year == 2007]['Date'],\n",
    "               y=df[df['Date'].dt.year == 2007]['Close'],\n",
    "               mode='lines',\n",
    "               line=dict(color='orange', width=3),\n",
    "               name=\"Before 2008 Crisis\")\n",
    ")\n",
    "\n",
    "# Highlight the period after the 2008 crisis (2009 onwards)\n",
    "fig_crisis_comparison.add_trace(\n",
    "    go.Scatter(x=df[df['Date'].dt.year >= 2009]['Date'],\n",
    "               y=df[df['Date'].dt.year >= 2009]['Close'],\n",
    "               mode='lines',\n",
    "               line=dict(color='yellow', width=3),\n",
    "               name=\"After 2008 Crisis\")\n",
    ")\n",
    "\n",
    "# Highlight the period before the COVID-19 market dip (2019)\n",
    "fig_crisis_comparison.add_trace(\n",
    "    go.Scatter(x=df[df['Date'].dt.year == 2019]['Date'],\n",
    "               y=df[df['Date'].dt.year == 2019]['Close'],\n",
    "               mode='lines',\n",
    "               line=dict(color='purple', width=3),\n",
    "               name=\"Before COVID-19\")\n",
    ")\n",
    "\n",
    "# Highlight the period after the COVID-19 market dip (2020 onwards)\n",
    "fig_crisis_comparison.add_trace(\n",
    "    go.Scatter(x=df[df['Date'].dt.year >= 2020]['Date'],\n",
    "               y=df[df['Date'].dt.year >= 2020]['Close'],\n",
    "               mode='lines',\n",
    "               line=dict(color='pink', width=3),\n",
    "               name=\"After COVID-19\")\n",
    ")\n",
    "\n",
    "# Layout update\n",
    "fig_crisis_comparison.update_layout(\n",
    "    title=\"Trends Before and After Major Financial Crises\",\n",
    "    xaxis=dict(title=\"Date\"),\n",
    "    yaxis=dict(title=\"Close Price\"),\n",
    "    plot_bgcolor='black',\n",
    "    paper_bgcolor='black',\n",
    "    font=dict(color='white')\n",
    ")\n",
    "fig_crisis_comparison.show()"
   ]
  },
  {
   "cell_type": "markdown",
   "id": "5f08522b",
   "metadata": {
    "papermill": {
     "duration": 0.017654,
     "end_time": "2024-12-26T09:39:29.387352",
     "exception": false,
     "start_time": "2024-12-26T09:39:29.369698",
     "status": "completed"
    },
    "tags": []
   },
   "source": [
    "### Volatility Analysis"
   ]
  },
  {
   "cell_type": "code",
   "execution_count": 16,
   "id": "474e328f",
   "metadata": {
    "execution": {
     "iopub.execute_input": "2024-12-26T09:39:29.425178Z",
     "iopub.status.busy": "2024-12-26T09:39:29.424707Z",
     "iopub.status.idle": "2024-12-26T09:39:29.430065Z",
     "shell.execute_reply": "2024-12-26T09:39:29.428808Z"
    },
    "papermill": {
     "duration": 0.026194,
     "end_time": "2024-12-26T09:39:29.431828",
     "exception": false,
     "start_time": "2024-12-26T09:39:29.405634",
     "status": "completed"
    },
    "tags": []
   },
   "outputs": [],
   "source": [
    "# Calculate Daily Price Range (Volatility)\n",
    "df['Volatility'] = df['High'] - df['Low']"
   ]
  },
  {
   "cell_type": "markdown",
   "id": "a522b208",
   "metadata": {
    "papermill": {
     "duration": 0.017387,
     "end_time": "2024-12-26T09:39:29.467086",
     "exception": false,
     "start_time": "2024-12-26T09:39:29.449699",
     "status": "completed"
    },
    "tags": []
   },
   "source": [
    "**Plotting the Daily Price Range (Volatility)**"
   ]
  },
  {
   "cell_type": "code",
   "execution_count": 17,
   "id": "c7fc2ecc",
   "metadata": {
    "execution": {
     "iopub.execute_input": "2024-12-26T09:39:29.504036Z",
     "iopub.status.busy": "2024-12-26T09:39:29.503565Z",
     "iopub.status.idle": "2024-12-26T09:39:29.727186Z",
     "shell.execute_reply": "2024-12-26T09:39:29.726016Z"
    },
    "papermill": {
     "duration": 0.244137,
     "end_time": "2024-12-26T09:39:29.728834",
     "exception": false,
     "start_time": "2024-12-26T09:39:29.484697",
     "status": "completed"
    },
    "tags": []
   },
   "outputs": [
    {
     "data": {
      "text/html": [
       "<iframe\n",
       "    scrolling=\"no\"\n",
       "    width=\"100%\"\n",
       "    height=\"545px\"\n",
       "    src=\"iframe_figures/figure_17.html\"\n",
       "    frameborder=\"0\"\n",
       "    allowfullscreen\n",
       "></iframe>\n"
      ]
     },
     "metadata": {},
     "output_type": "display_data"
    }
   ],
   "source": [
    "fig_volatility = go.Figure(\n",
    "    data=[go.Scatter(x=df['Date'], y=df['Volatility'], mode='lines', line=dict(color='cyan'))],\n",
    "    layout=go.Layout(\n",
    "        title=\"Daily Price Range (Volatility)\",\n",
    "        xaxis=dict(title=\"Date\"),\n",
    "        yaxis=dict(title=\"Price Range (High - Low)\"),\n",
    "        plot_bgcolor='black',\n",
    "        paper_bgcolor='black',\n",
    "        font=dict(color='white')\n",
    "    )\n",
    ")\n",
    "fig_volatility.show()"
   ]
  },
  {
   "cell_type": "markdown",
   "id": "5a375ec5",
   "metadata": {
    "papermill": {
     "duration": 0.017696,
     "end_time": "2024-12-26T09:39:29.765125",
     "exception": false,
     "start_time": "2024-12-26T09:39:29.747429",
     "status": "completed"
    },
    "tags": []
   },
   "source": [
    "**Identify Periods of High Volatility**"
   ]
  },
  {
   "cell_type": "code",
   "execution_count": 18,
   "id": "763b7d05",
   "metadata": {
    "execution": {
     "iopub.execute_input": "2024-12-26T09:39:29.802277Z",
     "iopub.status.busy": "2024-12-26T09:39:29.801832Z",
     "iopub.status.idle": "2024-12-26T09:39:29.810948Z",
     "shell.execute_reply": "2024-12-26T09:39:29.809814Z"
    },
    "papermill": {
     "duration": 0.029734,
     "end_time": "2024-12-26T09:39:29.812779",
     "exception": false,
     "start_time": "2024-12-26T09:39:29.783045",
     "status": "completed"
    },
    "tags": []
   },
   "outputs": [],
   "source": [
    "high_volatility_threshold = df['Volatility'].quantile(0.90)\n",
    "high_volatility_days = df[df['Volatility'] > high_volatility_threshold]"
   ]
  },
  {
   "cell_type": "code",
   "execution_count": 19,
   "id": "c2758be1",
   "metadata": {
    "execution": {
     "iopub.execute_input": "2024-12-26T09:39:29.849713Z",
     "iopub.status.busy": "2024-12-26T09:39:29.849343Z",
     "iopub.status.idle": "2024-12-26T09:39:30.096386Z",
     "shell.execute_reply": "2024-12-26T09:39:30.095013Z"
    },
    "papermill": {
     "duration": 0.267831,
     "end_time": "2024-12-26T09:39:30.098348",
     "exception": false,
     "start_time": "2024-12-26T09:39:29.830517",
     "status": "completed"
    },
    "tags": []
   },
   "outputs": [
    {
     "data": {
      "text/html": [
       "<iframe\n",
       "    scrolling=\"no\"\n",
       "    width=\"100%\"\n",
       "    height=\"545px\"\n",
       "    src=\"iframe_figures/figure_19.html\"\n",
       "    frameborder=\"0\"\n",
       "    allowfullscreen\n",
       "></iframe>\n"
      ]
     },
     "metadata": {},
     "output_type": "display_data"
    }
   ],
   "source": [
    "# Plotting the general volatility and high volatility periods\n",
    "fig_high_volatility = go.Figure()\n",
    "\n",
    "# Plotting the general volatility line\n",
    "fig_high_volatility.add_trace(\n",
    "    go.Scatter(x=df['Date'], y=df['Volatility'], mode='lines', line=dict(color='cyan'), name=\"Volatility\")\n",
    ")\n",
    "\n",
    "# Highlighting high volatility periods\n",
    "fig_high_volatility.add_trace(\n",
    "    go.Scatter(x=high_volatility_days['Date'], y=high_volatility_days['Volatility'],\n",
    "               mode='markers', marker=dict(color='red', size=8), name=\"High Volatility\")\n",
    ")\n",
    "\n",
    "fig_high_volatility.update_layout(\n",
    "    title=\"Periods of High Volatility\",\n",
    "    xaxis=dict(title=\"Date\"),\n",
    "    yaxis=dict(title=\"Price Range (High - Low)\"),\n",
    "    plot_bgcolor='black',\n",
    "    paper_bgcolor='black',\n",
    "    font=dict(color='white')\n",
    ")\n",
    "fig_high_volatility.show()"
   ]
  },
  {
   "cell_type": "markdown",
   "id": "e3e530af",
   "metadata": {
    "papermill": {
     "duration": 0.018761,
     "end_time": "2024-12-26T09:39:30.136382",
     "exception": false,
     "start_time": "2024-12-26T09:39:30.117621",
     "status": "completed"
    },
    "tags": []
   },
   "source": [
    "**Plotting Yearly Average Volatility**"
   ]
  },
  {
   "cell_type": "code",
   "execution_count": 20,
   "id": "456a8723",
   "metadata": {
    "execution": {
     "iopub.execute_input": "2024-12-26T09:39:30.173674Z",
     "iopub.status.busy": "2024-12-26T09:39:30.173336Z",
     "iopub.status.idle": "2024-12-26T09:39:30.182480Z",
     "shell.execute_reply": "2024-12-26T09:39:30.181462Z"
    },
    "papermill": {
     "duration": 0.02984,
     "end_time": "2024-12-26T09:39:30.184360",
     "exception": false,
     "start_time": "2024-12-26T09:39:30.154520",
     "status": "completed"
    },
    "tags": []
   },
   "outputs": [],
   "source": [
    "monthly_volatility = df.groupby('Month')['Volatility'].mean()\n",
    "yearly_volatility = df.groupby('Year')['Volatility'].mean()"
   ]
  },
  {
   "cell_type": "code",
   "execution_count": 21,
   "id": "f7f2ed5c",
   "metadata": {
    "execution": {
     "iopub.execute_input": "2024-12-26T09:39:30.222850Z",
     "iopub.status.busy": "2024-12-26T09:39:30.222514Z",
     "iopub.status.idle": "2024-12-26T09:39:30.275460Z",
     "shell.execute_reply": "2024-12-26T09:39:30.274245Z"
    },
    "papermill": {
     "duration": 0.074713,
     "end_time": "2024-12-26T09:39:30.277363",
     "exception": false,
     "start_time": "2024-12-26T09:39:30.202650",
     "status": "completed"
    },
    "tags": []
   },
   "outputs": [
    {
     "data": {
      "text/html": [
       "<iframe\n",
       "    scrolling=\"no\"\n",
       "    width=\"100%\"\n",
       "    height=\"545px\"\n",
       "    src=\"iframe_figures/figure_21.html\"\n",
       "    frameborder=\"0\"\n",
       "    allowfullscreen\n",
       "></iframe>\n"
      ]
     },
     "metadata": {},
     "output_type": "display_data"
    }
   ],
   "source": [
    "fig_yearly_volatility = go.Figure(\n",
    "    data=[go.Bar(x=yearly_volatility.index, y=yearly_volatility, marker=dict(color='cyan'))],\n",
    "    layout=go.Layout(\n",
    "        title=\"Yearly Average Volatility\",\n",
    "        xaxis=dict(title=\"Year\"),\n",
    "        yaxis=dict(title=\"Average Volatility (High - Low)\"),\n",
    "        plot_bgcolor='black',\n",
    "        paper_bgcolor='black',\n",
    "        font=dict(color='white')\n",
    "    )\n",
    ")\n",
    "fig_yearly_volatility.show()"
   ]
  },
  {
   "cell_type": "markdown",
   "id": "2644bf4e",
   "metadata": {
    "papermill": {
     "duration": 0.017663,
     "end_time": "2024-12-26T09:39:30.313288",
     "exception": false,
     "start_time": "2024-12-26T09:39:30.295625",
     "status": "completed"
    },
    "tags": []
   },
   "source": [
    "**Plotting Monthly Average Volatility**"
   ]
  },
  {
   "cell_type": "code",
   "execution_count": 22,
   "id": "37172b97",
   "metadata": {
    "execution": {
     "iopub.execute_input": "2024-12-26T09:39:30.350754Z",
     "iopub.status.busy": "2024-12-26T09:39:30.350371Z",
     "iopub.status.idle": "2024-12-26T09:39:30.401117Z",
     "shell.execute_reply": "2024-12-26T09:39:30.399999Z"
    },
    "papermill": {
     "duration": 0.071594,
     "end_time": "2024-12-26T09:39:30.402831",
     "exception": false,
     "start_time": "2024-12-26T09:39:30.331237",
     "status": "completed"
    },
    "tags": []
   },
   "outputs": [
    {
     "data": {
      "text/html": [
       "<iframe\n",
       "    scrolling=\"no\"\n",
       "    width=\"100%\"\n",
       "    height=\"545px\"\n",
       "    src=\"iframe_figures/figure_22.html\"\n",
       "    frameborder=\"0\"\n",
       "    allowfullscreen\n",
       "></iframe>\n"
      ]
     },
     "metadata": {},
     "output_type": "display_data"
    }
   ],
   "source": [
    "fig_monthly_volatility = go.Figure(\n",
    "    data=[go.Bar(x=monthly_volatility.index.astype(str), y=monthly_volatility, marker=dict(color='magenta'))],\n",
    "    layout=go.Layout(\n",
    "        title=\"Monthly Average Volatility\",\n",
    "        xaxis=dict(title=\"Month\"),\n",
    "        yaxis=dict(title=\"Average Volatility (High - Low)\"),\n",
    "        plot_bgcolor='black',\n",
    "        paper_bgcolor='black',\n",
    "        font=dict(color='white')\n",
    "    )\n",
    ")\n",
    "fig_monthly_volatility.show()"
   ]
  },
  {
   "cell_type": "markdown",
   "id": "a5056414",
   "metadata": {
    "papermill": {
     "duration": 0.018135,
     "end_time": "2024-12-26T09:39:30.439399",
     "exception": false,
     "start_time": "2024-12-26T09:39:30.421264",
     "status": "completed"
    },
    "tags": []
   },
   "source": [
    "### Volume Analysis"
   ]
  },
  {
   "cell_type": "markdown",
   "id": "65201e5a",
   "metadata": {
    "papermill": {
     "duration": 0.017952,
     "end_time": "2024-12-26T09:39:30.475408",
     "exception": false,
     "start_time": "2024-12-26T09:39:30.457456",
     "status": "completed"
    },
    "tags": []
   },
   "source": [
    "**Plotting the Trend of Trading Volume Over Time**"
   ]
  },
  {
   "cell_type": "code",
   "execution_count": 23,
   "id": "00275bac",
   "metadata": {
    "execution": {
     "iopub.execute_input": "2024-12-26T09:39:30.513574Z",
     "iopub.status.busy": "2024-12-26T09:39:30.513194Z",
     "iopub.status.idle": "2024-12-26T09:39:30.726766Z",
     "shell.execute_reply": "2024-12-26T09:39:30.725702Z"
    },
    "papermill": {
     "duration": 0.23479,
     "end_time": "2024-12-26T09:39:30.728615",
     "exception": false,
     "start_time": "2024-12-26T09:39:30.493825",
     "status": "completed"
    },
    "tags": []
   },
   "outputs": [
    {
     "data": {
      "text/html": [
       "<iframe\n",
       "    scrolling=\"no\"\n",
       "    width=\"100%\"\n",
       "    height=\"545px\"\n",
       "    src=\"iframe_figures/figure_23.html\"\n",
       "    frameborder=\"0\"\n",
       "    allowfullscreen\n",
       "></iframe>\n"
      ]
     },
     "metadata": {},
     "output_type": "display_data"
    }
   ],
   "source": [
    "fig_volume_trend = go.Figure(\n",
    "    data=[go.Scatter(x=df['Date'], y=df['Volume'], mode='lines', line=dict(color='cyan'))],\n",
    "    layout=go.Layout(\n",
    "        title=\"Trend of Trading Volume Over Time\",\n",
    "        xaxis=dict(title=\"Date\"),\n",
    "        yaxis=dict(title=\"Trading Volume\"),\n",
    "        plot_bgcolor='black',\n",
    "        paper_bgcolor='black',\n",
    "        font=dict(color='white')\n",
    "    )\n",
    ")\n",
    "fig_volume_trend.show()"
   ]
  },
  {
   "cell_type": "markdown",
   "id": "b433c4c8",
   "metadata": {
    "papermill": {
     "duration": 0.018128,
     "end_time": "2024-12-26T09:39:30.765228",
     "exception": false,
     "start_time": "2024-12-26T09:39:30.747100",
     "status": "completed"
    },
    "tags": []
   },
   "source": [
    "**Identify Days with Unusually High or Low Trading Activity**"
   ]
  },
  {
   "cell_type": "code",
   "execution_count": 24,
   "id": "18049b13",
   "metadata": {
    "execution": {
     "iopub.execute_input": "2024-12-26T09:39:30.803481Z",
     "iopub.status.busy": "2024-12-26T09:39:30.803079Z",
     "iopub.status.idle": "2024-12-26T09:39:30.812518Z",
     "shell.execute_reply": "2024-12-26T09:39:30.811389Z"
    },
    "papermill": {
     "duration": 0.031019,
     "end_time": "2024-12-26T09:39:30.814466",
     "exception": false,
     "start_time": "2024-12-26T09:39:30.783447",
     "status": "completed"
    },
    "tags": []
   },
   "outputs": [],
   "source": [
    "# Similarly, unusually low trading volume will be defined as days where the volume is below the 10th percentile.\n",
    "high_volume_threshold = df['Volume'].quantile(0.90)\n",
    "low_volume_threshold = df['Volume'].quantile(0.10)\n",
    "\n",
    "# Extracting high and low volume days\n",
    "high_volume_days = df[df['Volume'] > high_volume_threshold]\n",
    "low_volume_days = df[df['Volume'] < low_volume_threshold]"
   ]
  },
  {
   "cell_type": "markdown",
   "id": "99ad7c18",
   "metadata": {
    "papermill": {
     "duration": 0.017946,
     "end_time": "2024-12-26T09:39:30.851043",
     "exception": false,
     "start_time": "2024-12-26T09:39:30.833097",
     "status": "completed"
    },
    "tags": []
   },
   "source": [
    "**Plotting the Volume Trend with High and Low Volume Days Highlighted**"
   ]
  },
  {
   "cell_type": "code",
   "execution_count": 25,
   "id": "e45b1b92",
   "metadata": {
    "execution": {
     "iopub.execute_input": "2024-12-26T09:39:30.890431Z",
     "iopub.status.busy": "2024-12-26T09:39:30.890012Z",
     "iopub.status.idle": "2024-12-26T09:39:31.233057Z",
     "shell.execute_reply": "2024-12-26T09:39:31.232003Z"
    },
    "papermill": {
     "duration": 0.364813,
     "end_time": "2024-12-26T09:39:31.234671",
     "exception": false,
     "start_time": "2024-12-26T09:39:30.869858",
     "status": "completed"
    },
    "tags": []
   },
   "outputs": [
    {
     "data": {
      "text/html": [
       "<iframe\n",
       "    scrolling=\"no\"\n",
       "    width=\"100%\"\n",
       "    height=\"545px\"\n",
       "    src=\"iframe_figures/figure_25.html\"\n",
       "    frameborder=\"0\"\n",
       "    allowfullscreen\n",
       "></iframe>\n"
      ]
     },
     "metadata": {},
     "output_type": "display_data"
    }
   ],
   "source": [
    "fig_volume_activity = go.Figure()\n",
    "\n",
    "# Plotting the general trading volume line\n",
    "fig_volume_activity.add_trace(\n",
    "    go.Scatter(x=df['Date'], y=df['Volume'], mode='lines', line=dict(color='cyan'), name=\"Volume Trend\")\n",
    ")\n",
    "\n",
    "# Highlighting high volume periods\n",
    "fig_volume_activity.add_trace(\n",
    "    go.Scatter(x=high_volume_days['Date'], y=high_volume_days['Volume'],\n",
    "               mode='markers', marker=dict(color='red', size=8), name=\"High Volume Days\")\n",
    ")\n",
    "\n",
    "# Highlighting low volume periods\n",
    "fig_volume_activity.add_trace(\n",
    "    go.Scatter(x=low_volume_days['Date'], y=low_volume_days['Volume'],\n",
    "               mode='markers', marker=dict(color='yellow', size=8), name=\"Low Volume Days\")\n",
    ")\n",
    "\n",
    "fig_volume_activity.update_layout(\n",
    "    title=\"Periods of High and Low Trading Volume\",\n",
    "    xaxis=dict(title=\"Date\"),\n",
    "    yaxis=dict(title=\"Trading Volume\"),\n",
    "    plot_bgcolor='black',\n",
    "    paper_bgcolor='black',\n",
    "    font=dict(color='white')\n",
    ")\n",
    "fig_volume_activity.show()"
   ]
  },
  {
   "cell_type": "markdown",
   "id": "bb9b7803",
   "metadata": {
    "papermill": {
     "duration": 0.019103,
     "end_time": "2024-12-26T09:39:31.272407",
     "exception": false,
     "start_time": "2024-12-26T09:39:31.253304",
     "status": "completed"
    },
    "tags": []
   },
   "source": [
    "### Dividends and Stock Splits"
   ]
  },
  {
   "cell_type": "markdown",
   "id": "2d2a7f55",
   "metadata": {
    "papermill": {
     "duration": 0.018544,
     "end_time": "2024-12-26T09:39:31.310198",
     "exception": false,
     "start_time": "2024-12-26T09:39:31.291654",
     "status": "completed"
    },
    "tags": []
   },
   "source": [
    "**Plotting Dividend Payouts Over the Years**"
   ]
  },
  {
   "cell_type": "code",
   "execution_count": 26,
   "id": "345124f9",
   "metadata": {
    "execution": {
     "iopub.execute_input": "2024-12-26T09:39:31.349015Z",
     "iopub.status.busy": "2024-12-26T09:39:31.348602Z",
     "iopub.status.idle": "2024-12-26T09:39:31.390938Z",
     "shell.execute_reply": "2024-12-26T09:39:31.389762Z"
    },
    "papermill": {
     "duration": 0.064126,
     "end_time": "2024-12-26T09:39:31.392874",
     "exception": false,
     "start_time": "2024-12-26T09:39:31.328748",
     "status": "completed"
    },
    "tags": []
   },
   "outputs": [
    {
     "data": {
      "text/html": [
       "<iframe\n",
       "    scrolling=\"no\"\n",
       "    width=\"100%\"\n",
       "    height=\"545px\"\n",
       "    src=\"iframe_figures/figure_26.html\"\n",
       "    frameborder=\"0\"\n",
       "    allowfullscreen\n",
       "></iframe>\n"
      ]
     },
     "metadata": {},
     "output_type": "display_data"
    }
   ],
   "source": [
    "dividend_df = df[df['Dividends'] > 0]  # Filter rows where dividends are paid\n",
    "\n",
    "fig_dividends = go.Figure(\n",
    "    data=[go.Scatter(x=dividend_df['Date'], y=dividend_df['Dividends'], \n",
    "                     mode='markers', marker=dict(color='green', size=10), name=\"Dividends Paid\")],\n",
    "    layout=go.Layout(\n",
    "        title=\"Dividend Payouts Over the Years\",\n",
    "        xaxis=dict(title=\"Date\"),\n",
    "        yaxis=dict(title=\"Dividend Amount\"),\n",
    "        plot_bgcolor='black',\n",
    "        paper_bgcolor='black',\n",
    "        font=dict(color='white')\n",
    "    )\n",
    ")\n",
    "fig_dividends.show()"
   ]
  },
  {
   "cell_type": "code",
   "execution_count": 27,
   "id": "fd96e515",
   "metadata": {
    "execution": {
     "iopub.execute_input": "2024-12-26T09:39:31.433064Z",
     "iopub.status.busy": "2024-12-26T09:39:31.432651Z",
     "iopub.status.idle": "2024-12-26T09:39:31.818795Z",
     "shell.execute_reply": "2024-12-26T09:39:31.817655Z"
    },
    "papermill": {
     "duration": 0.408871,
     "end_time": "2024-12-26T09:39:31.820665",
     "exception": false,
     "start_time": "2024-12-26T09:39:31.411794",
     "status": "completed"
    },
    "tags": []
   },
   "outputs": [
    {
     "data": {
      "text/html": [
       "<iframe\n",
       "    scrolling=\"no\"\n",
       "    width=\"100%\"\n",
       "    height=\"545px\"\n",
       "    src=\"iframe_figures/figure_27.html\"\n",
       "    frameborder=\"0\"\n",
       "    allowfullscreen\n",
       "></iframe>\n"
      ]
     },
     "metadata": {},
     "output_type": "display_data"
    }
   ],
   "source": [
    "# Identify stock splits where the ratio is greater than 1 (indicating a split occurred)\n",
    "stock_split_df = df[df['Stock Splits'] > 1]\n",
    "\n",
    "fig_stock_splits = go.Figure()\n",
    "\n",
    "# Plotting Close Prices\n",
    "fig_stock_splits.add_trace(\n",
    "    go.Scatter(x=df['Date'], y=df['Close'], mode='lines', line=dict(color='cyan'), name=\"Close Price\")\n",
    ")\n",
    "\n",
    "# Plotting Volume\n",
    "fig_stock_splits.add_trace(\n",
    "    go.Scatter(x=df['Date'], y=df['Volume'], mode='lines', line=dict(color='yellow'), name=\"Volume\")\n",
    ")\n",
    "\n",
    "# Highlighting Stock Splits\n",
    "fig_stock_splits.add_trace(\n",
    "    go.Scatter(x=stock_split_df['Date'], y=stock_split_df['Close'],\n",
    "               mode='markers', marker=dict(color='red', size=10), name=\"Stock Splits\")\n",
    ")\n",
    "\n",
    "fig_stock_splits.update_layout(\n",
    "    title=\"Impact of Stock Splits on Stock Prices and Volume\",\n",
    "    xaxis=dict(title=\"Date\"),\n",
    "    yaxis=dict(title=\"Price and Volume\"),\n",
    "    plot_bgcolor='black',\n",
    "    paper_bgcolor='black',\n",
    "    font=dict(color='white')\n",
    ")\n",
    "fig_stock_splits.show()"
   ]
  },
  {
   "cell_type": "markdown",
   "id": "d3dcc6a4",
   "metadata": {
    "papermill": {
     "duration": 0.019032,
     "end_time": "2024-12-26T09:39:31.859635",
     "exception": false,
     "start_time": "2024-12-26T09:39:31.840603",
     "status": "completed"
    },
    "tags": []
   },
   "source": [
    "**Significant Stock Splits and Price Trends**"
   ]
  },
  {
   "cell_type": "code",
   "execution_count": 28,
   "id": "09e66cc6",
   "metadata": {
    "execution": {
     "iopub.execute_input": "2024-12-26T09:39:31.899416Z",
     "iopub.status.busy": "2024-12-26T09:39:31.898789Z",
     "iopub.status.idle": "2024-12-26T09:39:32.116852Z",
     "shell.execute_reply": "2024-12-26T09:39:32.115803Z"
    },
    "papermill": {
     "duration": 0.239569,
     "end_time": "2024-12-26T09:39:32.118650",
     "exception": false,
     "start_time": "2024-12-26T09:39:31.879081",
     "status": "completed"
    },
    "tags": []
   },
   "outputs": [
    {
     "data": {
      "text/html": [
       "<iframe\n",
       "    scrolling=\"no\"\n",
       "    width=\"100%\"\n",
       "    height=\"545px\"\n",
       "    src=\"iframe_figures/figure_28.html\"\n",
       "    frameborder=\"0\"\n",
       "    allowfullscreen\n",
       "></iframe>\n"
      ]
     },
     "metadata": {},
     "output_type": "display_data"
    }
   ],
   "source": [
    "# We will highlight significant splits and show their correlation with stock prices.\n",
    "significant_splits = stock_split_df[stock_split_df['Stock Splits'] > 2]\n",
    "\n",
    "\n",
    "fig_significant_splits = go.Figure()\n",
    "\n",
    "# Plotting Close Price\n",
    "fig_significant_splits.add_trace(\n",
    "    go.Scatter(x=df['Date'], y=df['Close'], mode='lines', line=dict(color='cyan'), name=\"Close Price\")\n",
    ")\n",
    "\n",
    "# Highlighting Significant Stock Splits\n",
    "fig_significant_splits.add_trace(\n",
    "    go.Scatter(x=significant_splits['Date'], y=significant_splits['Close'],\n",
    "               mode='markers', marker=dict(color='yellow', size=10), name=\"Significant Stock Splits\")\n",
    ")\n",
    "\n",
    "fig_significant_splits.update_layout(\n",
    "    title=\"Significant Stock Splits and Price Trends\",\n",
    "    xaxis=dict(title=\"Date\"),\n",
    "    yaxis=dict(title=\"Stock Price\"),\n",
    "    plot_bgcolor='black',\n",
    "    paper_bgcolor='black',\n",
    "    font=dict(color='white')\n",
    ")\n",
    "fig_significant_splits.show()"
   ]
  },
  {
   "cell_type": "markdown",
   "id": "f1af7ddd",
   "metadata": {
    "papermill": {
     "duration": 0.019121,
     "end_time": "2024-12-26T09:39:32.156718",
     "exception": false,
     "start_time": "2024-12-26T09:39:32.137597",
     "status": "completed"
    },
    "tags": []
   },
   "source": [
    "### Seasonality and Periodic Analysis"
   ]
  },
  {
   "cell_type": "markdown",
   "id": "9a48ce19",
   "metadata": {
    "papermill": {
     "duration": 0.018297,
     "end_time": "2024-12-26T09:39:32.193740",
     "exception": false,
     "start_time": "2024-12-26T09:39:32.175443",
     "status": "completed"
    },
    "tags": []
   },
   "source": [
    "**Plotting Monthly Average Close Prices**"
   ]
  },
  {
   "cell_type": "code",
   "execution_count": 29,
   "id": "2bafe7ef",
   "metadata": {
    "execution": {
     "iopub.execute_input": "2024-12-26T09:39:32.233445Z",
     "iopub.status.busy": "2024-12-26T09:39:32.233056Z",
     "iopub.status.idle": "2024-12-26T09:39:32.270432Z",
     "shell.execute_reply": "2024-12-26T09:39:32.269282Z"
    },
    "papermill": {
     "duration": 0.0602,
     "end_time": "2024-12-26T09:39:32.272442",
     "exception": false,
     "start_time": "2024-12-26T09:39:32.212242",
     "status": "completed"
    },
    "tags": []
   },
   "outputs": [
    {
     "data": {
      "text/html": [
       "<iframe\n",
       "    scrolling=\"no\"\n",
       "    width=\"100%\"\n",
       "    height=\"545px\"\n",
       "    src=\"iframe_figures/figure_29.html\"\n",
       "    frameborder=\"0\"\n",
       "    allowfullscreen\n",
       "></iframe>\n"
      ]
     },
     "metadata": {},
     "output_type": "display_data"
    }
   ],
   "source": [
    "monthly_avg = df.groupby('Month')['Close'].mean()\n",
    "\n",
    "fig_monthly = go.Figure(\n",
    "    data=[go.Bar(x=monthly_avg.index, y=monthly_avg.values, marker=dict(color='blue'))],\n",
    "    layout=go.Layout(\n",
    "        title=\"Monthly Average Close Prices\",\n",
    "        xaxis=dict(title=\"Month\"),\n",
    "        yaxis=dict(title=\"Average Close Price\"),\n",
    "        plot_bgcolor='black',\n",
    "        paper_bgcolor='black',\n",
    "        font=dict(color='white')\n",
    "    )\n",
    ")\n",
    "fig_monthly.show()"
   ]
  },
  {
   "cell_type": "markdown",
   "id": "15616744",
   "metadata": {
    "papermill": {
     "duration": 0.018481,
     "end_time": "2024-12-26T09:39:32.310059",
     "exception": false,
     "start_time": "2024-12-26T09:39:32.291578",
     "status": "completed"
    },
    "tags": []
   },
   "source": [
    "**Plotting Monthly average Volume**"
   ]
  },
  {
   "cell_type": "code",
   "execution_count": 30,
   "id": "a640bae0",
   "metadata": {
    "execution": {
     "iopub.execute_input": "2024-12-26T09:39:32.349545Z",
     "iopub.status.busy": "2024-12-26T09:39:32.349159Z",
     "iopub.status.idle": "2024-12-26T09:39:32.400848Z",
     "shell.execute_reply": "2024-12-26T09:39:32.399715Z"
    },
    "papermill": {
     "duration": 0.073358,
     "end_time": "2024-12-26T09:39:32.402739",
     "exception": false,
     "start_time": "2024-12-26T09:39:32.329381",
     "status": "completed"
    },
    "tags": []
   },
   "outputs": [
    {
     "data": {
      "text/html": [
       "<iframe\n",
       "    scrolling=\"no\"\n",
       "    width=\"100%\"\n",
       "    height=\"545px\"\n",
       "    src=\"iframe_figures/figure_30.html\"\n",
       "    frameborder=\"0\"\n",
       "    allowfullscreen\n",
       "></iframe>\n"
      ]
     },
     "metadata": {},
     "output_type": "display_data"
    }
   ],
   "source": [
    "monthly_avg_vol = df.groupby('Month')['Volume'].mean()\n",
    "\n",
    "fig_monthly_vol = go.Figure(\n",
    "    data=[go.Bar(x=monthly_avg_vol.index, y=monthly_avg_vol.values, marker=dict(color='red'))],\n",
    "    layout=go.Layout(\n",
    "        title=\"Monthly Average Volume\",\n",
    "        xaxis=dict(title=\"Month\"),\n",
    "        yaxis=dict(title=\"Average Volume\"),\n",
    "        plot_bgcolor='black',\n",
    "        paper_bgcolor='black',\n",
    "        font=dict(color='white')\n",
    "    )\n",
    ")\n",
    "fig_monthly_vol.show()"
   ]
  },
  {
   "cell_type": "markdown",
   "id": "894f65e3",
   "metadata": {
    "papermill": {
     "duration": 0.018744,
     "end_time": "2024-12-26T09:39:32.440540",
     "exception": false,
     "start_time": "2024-12-26T09:39:32.421796",
     "status": "completed"
    },
    "tags": []
   },
   "source": [
    "### Day-wise Average Close Prices "
   ]
  },
  {
   "cell_type": "code",
   "execution_count": 31,
   "id": "a9083f7c",
   "metadata": {
    "execution": {
     "iopub.execute_input": "2024-12-26T09:39:32.479486Z",
     "iopub.status.busy": "2024-12-26T09:39:32.479130Z",
     "iopub.status.idle": "2024-12-26T09:39:32.530281Z",
     "shell.execute_reply": "2024-12-26T09:39:32.529262Z"
    },
    "papermill": {
     "duration": 0.072863,
     "end_time": "2024-12-26T09:39:32.532153",
     "exception": false,
     "start_time": "2024-12-26T09:39:32.459290",
     "status": "completed"
    },
    "tags": []
   },
   "outputs": [
    {
     "data": {
      "text/html": [
       "<iframe\n",
       "    scrolling=\"no\"\n",
       "    width=\"100%\"\n",
       "    height=\"545px\"\n",
       "    src=\"iframe_figures/figure_31.html\"\n",
       "    frameborder=\"0\"\n",
       "    allowfullscreen\n",
       "></iframe>\n"
      ]
     },
     "metadata": {},
     "output_type": "display_data"
    }
   ],
   "source": [
    "daily_avg_close = df.groupby('Day')['Close'].mean()\n",
    "\n",
    "fig_daily_close = go.Figure(\n",
    "    data=[go.Bar(x=daily_avg_close.index, y=daily_avg_close.values, marker=dict(color='orange'))],\n",
    "    layout=go.Layout(\n",
    "        title=\"Daily Average Close Price\",\n",
    "        xaxis=dict(title=\"Day\"),\n",
    "        yaxis=dict(title=\"Average Close Price\"),\n",
    "        plot_bgcolor='black',\n",
    "        paper_bgcolor='black',\n",
    "        font=dict(color='white')\n",
    "    )\n",
    ")\n",
    "fig_daily_close.show()"
   ]
  },
  {
   "cell_type": "markdown",
   "id": "a6d921c4",
   "metadata": {
    "papermill": {
     "duration": 0.018945,
     "end_time": "2024-12-26T09:39:32.571032",
     "exception": false,
     "start_time": "2024-12-26T09:39:32.552087",
     "status": "completed"
    },
    "tags": []
   },
   "source": [
    "**Day-wise Average Volumes**"
   ]
  },
  {
   "cell_type": "code",
   "execution_count": 32,
   "id": "9e529579",
   "metadata": {
    "execution": {
     "iopub.execute_input": "2024-12-26T09:39:32.610667Z",
     "iopub.status.busy": "2024-12-26T09:39:32.610316Z",
     "iopub.status.idle": "2024-12-26T09:39:32.660992Z",
     "shell.execute_reply": "2024-12-26T09:39:32.659802Z"
    },
    "papermill": {
     "duration": 0.072518,
     "end_time": "2024-12-26T09:39:32.662789",
     "exception": false,
     "start_time": "2024-12-26T09:39:32.590271",
     "status": "completed"
    },
    "tags": []
   },
   "outputs": [
    {
     "data": {
      "text/html": [
       "<iframe\n",
       "    scrolling=\"no\"\n",
       "    width=\"100%\"\n",
       "    height=\"545px\"\n",
       "    src=\"iframe_figures/figure_32.html\"\n",
       "    frameborder=\"0\"\n",
       "    allowfullscreen\n",
       "></iframe>\n"
      ]
     },
     "metadata": {},
     "output_type": "display_data"
    }
   ],
   "source": [
    "daily_avg_volume = df.groupby('Day')['Volume'].mean()\n",
    "\n",
    "fig_daily_volume = go.Figure(\n",
    "    data=[go.Bar(x=daily_avg_volume.index, y=daily_avg_volume.values, marker=dict(color='purple'))],\n",
    "    layout=go.Layout(\n",
    "        title=\"Daily Average Volume\",\n",
    "        xaxis=dict(title=\"Day\"),\n",
    "        yaxis=dict(title=\"Average Volume\"),\n",
    "        plot_bgcolor='black',\n",
    "        paper_bgcolor='black',\n",
    "        font=dict(color='white')\n",
    "    )\n",
    ")\n",
    "fig_daily_volume.show()"
   ]
  },
  {
   "cell_type": "markdown",
   "id": "203f4feb",
   "metadata": {
    "papermill": {
     "duration": 0.01851,
     "end_time": "2024-12-26T09:39:32.700697",
     "exception": false,
     "start_time": "2024-12-26T09:39:32.682187",
     "status": "completed"
    },
    "tags": []
   },
   "source": [
    "**Year-wise Average Close Prices**"
   ]
  },
  {
   "cell_type": "code",
   "execution_count": 33,
   "id": "8d7453e3",
   "metadata": {
    "execution": {
     "iopub.execute_input": "2024-12-26T09:39:32.739521Z",
     "iopub.status.busy": "2024-12-26T09:39:32.739190Z",
     "iopub.status.idle": "2024-12-26T09:39:32.790839Z",
     "shell.execute_reply": "2024-12-26T09:39:32.789763Z"
    },
    "papermill": {
     "duration": 0.073352,
     "end_time": "2024-12-26T09:39:32.792723",
     "exception": false,
     "start_time": "2024-12-26T09:39:32.719371",
     "status": "completed"
    },
    "tags": []
   },
   "outputs": [
    {
     "data": {
      "text/html": [
       "<iframe\n",
       "    scrolling=\"no\"\n",
       "    width=\"100%\"\n",
       "    height=\"545px\"\n",
       "    src=\"iframe_figures/figure_33.html\"\n",
       "    frameborder=\"0\"\n",
       "    allowfullscreen\n",
       "></iframe>\n"
      ]
     },
     "metadata": {},
     "output_type": "display_data"
    }
   ],
   "source": [
    "yearly_avg_price = df.groupby('Year')['Close'].mean()\n",
    "\n",
    "fig_yearly_price = go.Figure(\n",
    "    data=[go.Bar(x=yearly_avg_price.index, y=yearly_avg_price.values, marker=dict(color='lime'))],\n",
    "    layout=go.Layout(\n",
    "        title=\"Year-wise Average Close Prices\",\n",
    "        xaxis=dict(title=\"Year\"),\n",
    "        yaxis=dict(title=\"Average Close Price\"),\n",
    "        plot_bgcolor='black',\n",
    "        paper_bgcolor='black',\n",
    "        font=dict(color='white')\n",
    "    )\n",
    ")\n",
    "fig_yearly_price.show()"
   ]
  },
  {
   "cell_type": "markdown",
   "id": "e9a9428a",
   "metadata": {
    "papermill": {
     "duration": 0.018937,
     "end_time": "2024-12-26T09:39:32.831364",
     "exception": false,
     "start_time": "2024-12-26T09:39:32.812427",
     "status": "completed"
    },
    "tags": []
   },
   "source": [
    "**Year-wise Average Trading Volumes**"
   ]
  },
  {
   "cell_type": "code",
   "execution_count": 34,
   "id": "d9e8c830",
   "metadata": {
    "execution": {
     "iopub.execute_input": "2024-12-26T09:39:32.925431Z",
     "iopub.status.busy": "2024-12-26T09:39:32.925049Z",
     "iopub.status.idle": "2024-12-26T09:39:32.976003Z",
     "shell.execute_reply": "2024-12-26T09:39:32.975025Z"
    },
    "papermill": {
     "duration": 0.073098,
     "end_time": "2024-12-26T09:39:32.977737",
     "exception": false,
     "start_time": "2024-12-26T09:39:32.904639",
     "status": "completed"
    },
    "tags": []
   },
   "outputs": [
    {
     "data": {
      "text/html": [
       "<iframe\n",
       "    scrolling=\"no\"\n",
       "    width=\"100%\"\n",
       "    height=\"545px\"\n",
       "    src=\"iframe_figures/figure_34.html\"\n",
       "    frameborder=\"0\"\n",
       "    allowfullscreen\n",
       "></iframe>\n"
      ]
     },
     "metadata": {},
     "output_type": "display_data"
    }
   ],
   "source": [
    "yearly_avg_volume = df.groupby('Year')['Volume'].mean()\n",
    "\n",
    "fig_yearly_volume = go.Figure(\n",
    "    data=[go.Bar(x=yearly_avg_volume.index, y=yearly_avg_volume.values, marker=dict(color='magenta'))],\n",
    "    layout=go.Layout(\n",
    "        title=\"Year-wise Average Trading Volumes\",\n",
    "        xaxis=dict(title=\"Year\"),\n",
    "        yaxis=dict(title=\"Average Trading Volume\"),\n",
    "        plot_bgcolor='black',\n",
    "        paper_bgcolor='black',\n",
    "        font=dict(color='white')\n",
    "    )\n",
    ")\n",
    "fig_yearly_volume.show()"
   ]
  },
  {
   "cell_type": "markdown",
   "id": "c18dc744",
   "metadata": {
    "papermill": {
     "duration": 0.018861,
     "end_time": "2024-12-26T09:39:33.054987",
     "exception": false,
     "start_time": "2024-12-26T09:39:33.036126",
     "status": "completed"
    },
    "tags": []
   },
   "source": [
    "**Correlation heatmap for Open, Close, High, Low, and Volume**"
   ]
  },
  {
   "cell_type": "code",
   "execution_count": 35,
   "id": "d6faeab2",
   "metadata": {
    "execution": {
     "iopub.execute_input": "2024-12-26T09:39:33.094536Z",
     "iopub.status.busy": "2024-12-26T09:39:33.094146Z",
     "iopub.status.idle": "2024-12-26T09:39:33.102570Z",
     "shell.execute_reply": "2024-12-26T09:39:33.101469Z"
    },
    "papermill": {
     "duration": 0.030216,
     "end_time": "2024-12-26T09:39:33.104300",
     "exception": false,
     "start_time": "2024-12-26T09:39:33.074084",
     "status": "completed"
    },
    "tags": []
   },
   "outputs": [],
   "source": [
    "correlation_data = df[['Open', 'Close', 'High', 'Low', 'Volume']].corr()"
   ]
  },
  {
   "cell_type": "code",
   "execution_count": 36,
   "id": "4ee4a370",
   "metadata": {
    "execution": {
     "iopub.execute_input": "2024-12-26T09:39:33.144218Z",
     "iopub.status.busy": "2024-12-26T09:39:33.143764Z",
     "iopub.status.idle": "2024-12-26T09:39:33.155385Z",
     "shell.execute_reply": "2024-12-26T09:39:33.154329Z"
    },
    "papermill": {
     "duration": 0.033379,
     "end_time": "2024-12-26T09:39:33.156982",
     "exception": false,
     "start_time": "2024-12-26T09:39:33.123603",
     "status": "completed"
    },
    "tags": []
   },
   "outputs": [
    {
     "data": {
      "text/html": [
       "<div>\n",
       "<style scoped>\n",
       "    .dataframe tbody tr th:only-of-type {\n",
       "        vertical-align: middle;\n",
       "    }\n",
       "\n",
       "    .dataframe tbody tr th {\n",
       "        vertical-align: top;\n",
       "    }\n",
       "\n",
       "    .dataframe thead th {\n",
       "        text-align: right;\n",
       "    }\n",
       "</style>\n",
       "<table border=\"1\" class=\"dataframe\">\n",
       "  <thead>\n",
       "    <tr style=\"text-align: right;\">\n",
       "      <th></th>\n",
       "      <th>Open</th>\n",
       "      <th>Close</th>\n",
       "      <th>High</th>\n",
       "      <th>Low</th>\n",
       "      <th>Volume</th>\n",
       "    </tr>\n",
       "  </thead>\n",
       "  <tbody>\n",
       "    <tr>\n",
       "      <th>Open</th>\n",
       "      <td>1.000000</td>\n",
       "      <td>0.999668</td>\n",
       "      <td>0.999836</td>\n",
       "      <td>0.999843</td>\n",
       "      <td>-0.214690</td>\n",
       "    </tr>\n",
       "    <tr>\n",
       "      <th>Close</th>\n",
       "      <td>0.999668</td>\n",
       "      <td>1.000000</td>\n",
       "      <td>0.999825</td>\n",
       "      <td>0.999841</td>\n",
       "      <td>-0.215027</td>\n",
       "    </tr>\n",
       "    <tr>\n",
       "      <th>High</th>\n",
       "      <td>0.999836</td>\n",
       "      <td>0.999825</td>\n",
       "      <td>1.000000</td>\n",
       "      <td>0.999760</td>\n",
       "      <td>-0.212102</td>\n",
       "    </tr>\n",
       "    <tr>\n",
       "      <th>Low</th>\n",
       "      <td>0.999843</td>\n",
       "      <td>0.999841</td>\n",
       "      <td>0.999760</td>\n",
       "      <td>1.000000</td>\n",
       "      <td>-0.217666</td>\n",
       "    </tr>\n",
       "    <tr>\n",
       "      <th>Volume</th>\n",
       "      <td>-0.214690</td>\n",
       "      <td>-0.215027</td>\n",
       "      <td>-0.212102</td>\n",
       "      <td>-0.217666</td>\n",
       "      <td>1.000000</td>\n",
       "    </tr>\n",
       "  </tbody>\n",
       "</table>\n",
       "</div>"
      ],
      "text/plain": [
       "            Open     Close      High       Low    Volume\n",
       "Open    1.000000  0.999668  0.999836  0.999843 -0.214690\n",
       "Close   0.999668  1.000000  0.999825  0.999841 -0.215027\n",
       "High    0.999836  0.999825  1.000000  0.999760 -0.212102\n",
       "Low     0.999843  0.999841  0.999760  1.000000 -0.217666\n",
       "Volume -0.214690 -0.215027 -0.212102 -0.217666  1.000000"
      ]
     },
     "execution_count": 36,
     "metadata": {},
     "output_type": "execute_result"
    }
   ],
   "source": [
    "correlation_data"
   ]
  },
  {
   "cell_type": "code",
   "execution_count": 37,
   "id": "6513aa97",
   "metadata": {
    "execution": {
     "iopub.execute_input": "2024-12-26T09:39:33.197532Z",
     "iopub.status.busy": "2024-12-26T09:39:33.197182Z",
     "iopub.status.idle": "2024-12-26T09:39:33.257908Z",
     "shell.execute_reply": "2024-12-26T09:39:33.256743Z"
    },
    "papermill": {
     "duration": 0.083011,
     "end_time": "2024-12-26T09:39:33.259634",
     "exception": false,
     "start_time": "2024-12-26T09:39:33.176623",
     "status": "completed"
    },
    "tags": []
   },
   "outputs": [
    {
     "data": {
      "text/html": [
       "<iframe\n",
       "    scrolling=\"no\"\n",
       "    width=\"100%\"\n",
       "    height=\"545px\"\n",
       "    src=\"iframe_figures/figure_37.html\"\n",
       "    frameborder=\"0\"\n",
       "    allowfullscreen\n",
       "></iframe>\n"
      ]
     },
     "metadata": {},
     "output_type": "display_data"
    }
   ],
   "source": [
    "fig_corr = go.Figure(\n",
    "    data=go.Heatmap(\n",
    "        z=correlation_data.values,\n",
    "        x=correlation_data.columns,\n",
    "        y=correlation_data.columns,\n",
    "        colorscale='Viridis',\n",
    "        colorbar=dict(title=\"Correlation\"),\n",
    "    ),\n",
    "    layout=go.Layout(\n",
    "        title=\"Correlation Heatmap\",\n",
    "        plot_bgcolor='black',\n",
    "        paper_bgcolor='black',\n",
    "        font=dict(color='white'),\n",
    "    )\n",
    ")\n",
    "fig_corr.show()"
   ]
  },
  {
   "cell_type": "markdown",
   "id": "b266a855",
   "metadata": {
    "papermill": {
     "duration": 0.019164,
     "end_time": "2024-12-26T09:39:33.298599",
     "exception": false,
     "start_time": "2024-12-26T09:39:33.279435",
     "status": "completed"
    },
    "tags": []
   },
   "source": [
    "**Volume vs Price Volatility**"
   ]
  },
  {
   "cell_type": "code",
   "execution_count": 38,
   "id": "9c37ae65",
   "metadata": {
    "execution": {
     "iopub.execute_input": "2024-12-26T09:39:33.340167Z",
     "iopub.status.busy": "2024-12-26T09:39:33.339745Z",
     "iopub.status.idle": "2024-12-26T09:39:33.406288Z",
     "shell.execute_reply": "2024-12-26T09:39:33.405114Z"
    },
    "papermill": {
     "duration": 0.089106,
     "end_time": "2024-12-26T09:39:33.408116",
     "exception": false,
     "start_time": "2024-12-26T09:39:33.319010",
     "status": "completed"
    },
    "tags": []
   },
   "outputs": [
    {
     "data": {
      "text/html": [
       "<iframe\n",
       "    scrolling=\"no\"\n",
       "    width=\"100%\"\n",
       "    height=\"545px\"\n",
       "    src=\"iframe_figures/figure_38.html\"\n",
       "    frameborder=\"0\"\n",
       "    allowfullscreen\n",
       "></iframe>\n"
      ]
     },
     "metadata": {},
     "output_type": "display_data"
    }
   ],
   "source": [
    "df['Volatility'] = df['High'] - df['Low']\n",
    "\n",
    "fig_volatility_volume = go.Figure(\n",
    "    data=go.Scatter(\n",
    "        x=df['Volume'],\n",
    "        y=df['Volatility'],\n",
    "        mode='markers',\n",
    "        marker=dict(color='cyan', size=5),\n",
    "        name='Volume vs Volatility',\n",
    "    ),\n",
    "    layout=go.Layout(\n",
    "        title=\"Volume vs Price Volatility\",\n",
    "        xaxis=dict(title=\"Volume\"),\n",
    "        yaxis=dict(title=\"Volatility (High - Low)\"),\n",
    "        plot_bgcolor='black',\n",
    "        paper_bgcolor='black',\n",
    "        font=dict(color='white'),\n",
    "    )\n",
    ")\n",
    "fig_volatility_volume.show()"
   ]
  },
  {
   "cell_type": "markdown",
   "id": "fa3710a1",
   "metadata": {
    "papermill": {
     "duration": 0.019285,
     "end_time": "2024-12-26T09:39:33.447364",
     "exception": false,
     "start_time": "2024-12-26T09:39:33.428079",
     "status": "completed"
    },
    "tags": []
   },
   "source": [
    "**Dividends vs Stock Performance (Close Price)**"
   ]
  },
  {
   "cell_type": "code",
   "execution_count": 39,
   "id": "a4be4e59",
   "metadata": {
    "execution": {
     "iopub.execute_input": "2024-12-26T09:39:33.488524Z",
     "iopub.status.busy": "2024-12-26T09:39:33.488006Z",
     "iopub.status.idle": "2024-12-26T09:39:33.535591Z",
     "shell.execute_reply": "2024-12-26T09:39:33.534411Z"
    },
    "papermill": {
     "duration": 0.070336,
     "end_time": "2024-12-26T09:39:33.537409",
     "exception": false,
     "start_time": "2024-12-26T09:39:33.467073",
     "status": "completed"
    },
    "tags": []
   },
   "outputs": [
    {
     "data": {
      "text/html": [
       "<iframe\n",
       "    scrolling=\"no\"\n",
       "    width=\"100%\"\n",
       "    height=\"545px\"\n",
       "    src=\"iframe_figures/figure_39.html\"\n",
       "    frameborder=\"0\"\n",
       "    allowfullscreen\n",
       "></iframe>\n"
      ]
     },
     "metadata": {},
     "output_type": "display_data"
    }
   ],
   "source": [
    "fig_dividends_performance = go.Figure(\n",
    "    data=go.Scatter(\n",
    "        x=df['Dividends'],\n",
    "        y=df['Close'],\n",
    "        mode='markers',\n",
    "        marker=dict(color='lime', size=5),\n",
    "        name='Dividends vs Close Price',\n",
    "    ),\n",
    "    layout=go.Layout(\n",
    "        title=\"Dividends vs Stock Performance\",\n",
    "        xaxis=dict(title=\"Dividends\"),\n",
    "        yaxis=dict(title=\"Close Price\"),\n",
    "        plot_bgcolor='black',\n",
    "        paper_bgcolor='black',\n",
    "        font=dict(color='white'),\n",
    "    )\n",
    ")\n",
    "fig_dividends_performance.show()"
   ]
  },
  {
   "cell_type": "markdown",
   "id": "43d8f2ed",
   "metadata": {
    "papermill": {
     "duration": 0.020267,
     "end_time": "2024-12-26T09:39:33.577813",
     "exception": false,
     "start_time": "2024-12-26T09:39:33.557546",
     "status": "completed"
    },
    "tags": []
   },
   "source": [
    "**Stock Splits vs Close Price**"
   ]
  },
  {
   "cell_type": "code",
   "execution_count": 40,
   "id": "edcf658c",
   "metadata": {
    "execution": {
     "iopub.execute_input": "2024-12-26T09:39:33.619038Z",
     "iopub.status.busy": "2024-12-26T09:39:33.618560Z",
     "iopub.status.idle": "2024-12-26T09:39:33.680138Z",
     "shell.execute_reply": "2024-12-26T09:39:33.678840Z"
    },
    "papermill": {
     "duration": 0.084391,
     "end_time": "2024-12-26T09:39:33.682066",
     "exception": false,
     "start_time": "2024-12-26T09:39:33.597675",
     "status": "completed"
    },
    "tags": []
   },
   "outputs": [
    {
     "data": {
      "text/html": [
       "<iframe\n",
       "    scrolling=\"no\"\n",
       "    width=\"100%\"\n",
       "    height=\"545px\"\n",
       "    src=\"iframe_figures/figure_40.html\"\n",
       "    frameborder=\"0\"\n",
       "    allowfullscreen\n",
       "></iframe>\n"
      ]
     },
     "metadata": {},
     "output_type": "display_data"
    }
   ],
   "source": [
    "fig_splits_performance = go.Figure(\n",
    "    data=go.Scatter(\n",
    "        x=df['Stock Splits'],\n",
    "        y=df['Close'],\n",
    "        mode='markers',\n",
    "        marker=dict(color='magenta', size=5),\n",
    "        name='Stock Splits vs Close Price',\n",
    "    ),\n",
    "    layout=go.Layout(\n",
    "        title=\"Stock Splits vs Stock Performance\",\n",
    "        xaxis=dict(title=\"Stock Splits\"),\n",
    "        yaxis=dict(title=\"Close Price\"),\n",
    "        plot_bgcolor='black',\n",
    "        paper_bgcolor='black',\n",
    "        font=dict(color='white'),\n",
    "    )\n",
    ")\n",
    "fig_splits_performance.show()"
   ]
  },
  {
   "cell_type": "markdown",
   "id": "ce80db93",
   "metadata": {
    "papermill": {
     "duration": 0.019509,
     "end_time": "2024-12-26T09:39:33.722117",
     "exception": false,
     "start_time": "2024-12-26T09:39:33.702608",
     "status": "completed"
    },
    "tags": []
   },
   "source": [
    "### Comparative Analysis"
   ]
  },
  {
   "cell_type": "markdown",
   "id": "49b50d13",
   "metadata": {
    "papermill": {
     "duration": 0.019504,
     "end_time": "2024-12-26T09:39:33.761725",
     "exception": false,
     "start_time": "2024-12-26T09:39:33.742221",
     "status": "completed"
    },
    "tags": []
   },
   "source": [
    "**Compare yearly average prices and volumes**"
   ]
  },
  {
   "cell_type": "code",
   "execution_count": 41,
   "id": "0cf0a813",
   "metadata": {
    "execution": {
     "iopub.execute_input": "2024-12-26T09:39:33.804138Z",
     "iopub.status.busy": "2024-12-26T09:39:33.803670Z",
     "iopub.status.idle": "2024-12-26T09:39:33.820252Z",
     "shell.execute_reply": "2024-12-26T09:39:33.819059Z"
    },
    "papermill": {
     "duration": 0.039489,
     "end_time": "2024-12-26T09:39:33.822189",
     "exception": false,
     "start_time": "2024-12-26T09:39:33.782700",
     "status": "completed"
    },
    "tags": []
   },
   "outputs": [],
   "source": [
    "yearly_data = df.groupby(df['Date'].dt.year).agg(\n",
    "              avg_price=('Close', 'mean'),\n",
    "              avg_volume=('Volume', 'mean')).reset_index()"
   ]
  },
  {
   "cell_type": "code",
   "execution_count": 42,
   "id": "84d21836",
   "metadata": {
    "execution": {
     "iopub.execute_input": "2024-12-26T09:39:33.863414Z",
     "iopub.status.busy": "2024-12-26T09:39:33.863056Z",
     "iopub.status.idle": "2024-12-26T09:39:33.917346Z",
     "shell.execute_reply": "2024-12-26T09:39:33.916151Z"
    },
    "papermill": {
     "duration": 0.077253,
     "end_time": "2024-12-26T09:39:33.919329",
     "exception": false,
     "start_time": "2024-12-26T09:39:33.842076",
     "status": "completed"
    },
    "tags": []
   },
   "outputs": [
    {
     "data": {
      "text/html": [
       "<iframe\n",
       "    scrolling=\"no\"\n",
       "    width=\"100%\"\n",
       "    height=\"545px\"\n",
       "    src=\"iframe_figures/figure_42.html\"\n",
       "    frameborder=\"0\"\n",
       "    allowfullscreen\n",
       "></iframe>\n"
      ]
     },
     "metadata": {},
     "output_type": "display_data"
    }
   ],
   "source": [
    "fig_yearly_avg = go.Figure()\n",
    "\n",
    "# Line for yearly average prices\n",
    "fig_yearly_avg.add_trace(\n",
    "    go.Scatter(\n",
    "        x=yearly_data['Date'],\n",
    "        y=yearly_data['avg_price'],\n",
    "        mode='lines+markers',\n",
    "        line=dict(color='cyan'),\n",
    "        name='Average Price'\n",
    "    )\n",
    ")\n",
    "\n",
    "# Line for yearly average volumes\n",
    "fig_yearly_avg.add_trace(\n",
    "    go.Scatter(\n",
    "        x=yearly_data['Date'],\n",
    "        y=yearly_data['avg_volume'],\n",
    "        mode='lines+markers',\n",
    "        line=dict(color='magenta'),\n",
    "        name='Average Volume'\n",
    "    )\n",
    ")\n",
    "\n",
    "fig_yearly_avg.update_layout(\n",
    "    title=\"Yearly Average Prices and Volumes\",\n",
    "    xaxis=dict(title=\"Year\"),\n",
    "    yaxis=dict(title=\"Average\"),\n",
    "    plot_bgcolor='black',\n",
    "    paper_bgcolor='black',\n",
    "    font=dict(color='white'),\n",
    ")\n",
    "fig_yearly_avg.show()"
   ]
  },
  {
   "cell_type": "markdown",
   "id": "9eb80e20",
   "metadata": {
    "papermill": {
     "duration": 0.020876,
     "end_time": "2024-12-26T09:39:33.961367",
     "exception": false,
     "start_time": "2024-12-26T09:39:33.940491",
     "status": "completed"
    },
    "tags": []
   },
   "source": [
    "**Price Trends Before and After Significant Events**"
   ]
  },
  {
   "cell_type": "code",
   "execution_count": 43,
   "id": "46d1fb1c",
   "metadata": {
    "execution": {
     "iopub.execute_input": "2024-12-26T09:39:34.005462Z",
     "iopub.status.busy": "2024-12-26T09:39:34.005038Z",
     "iopub.status.idle": "2024-12-26T09:39:34.012693Z",
     "shell.execute_reply": "2024-12-26T09:39:34.011505Z"
    },
    "papermill": {
     "duration": 0.0323,
     "end_time": "2024-12-26T09:39:34.014536",
     "exception": false,
     "start_time": "2024-12-26T09:39:33.982236",
     "status": "completed"
    },
    "tags": []
   },
   "outputs": [],
   "source": [
    "significant_years = [2015, 2020]\n",
    "event_data = df[df['Date'].dt.year.isin(significant_years)].copy()"
   ]
  },
  {
   "cell_type": "code",
   "execution_count": 44,
   "id": "cc975793",
   "metadata": {
    "execution": {
     "iopub.execute_input": "2024-12-26T09:39:34.056015Z",
     "iopub.status.busy": "2024-12-26T09:39:34.055602Z",
     "iopub.status.idle": "2024-12-26T09:39:34.120381Z",
     "shell.execute_reply": "2024-12-26T09:39:34.119196Z"
    },
    "papermill": {
     "duration": 0.087691,
     "end_time": "2024-12-26T09:39:34.122308",
     "exception": false,
     "start_time": "2024-12-26T09:39:34.034617",
     "status": "completed"
    },
    "tags": []
   },
   "outputs": [
    {
     "data": {
      "text/html": [
       "<iframe\n",
       "    scrolling=\"no\"\n",
       "    width=\"100%\"\n",
       "    height=\"545px\"\n",
       "    src=\"iframe_figures/figure_44.html\"\n",
       "    frameborder=\"0\"\n",
       "    allowfullscreen\n",
       "></iframe>\n"
      ]
     },
     "metadata": {},
     "output_type": "display_data"
    }
   ],
   "source": [
    "fig_event_trends = go.Figure()\n",
    "\n",
    "for year in significant_years:\n",
    "    yearly_trend = event_data[event_data['Date'].dt.year == year]\n",
    "    fig_event_trends.add_trace(\n",
    "        go.Scatter(\n",
    "            x=yearly_trend['Date'],\n",
    "            y=yearly_trend['Close'],\n",
    "            mode='lines+markers',\n",
    "            name=f\"Price Trend - {year}\"\n",
    "        )\n",
    "    )\n",
    "\n",
    "fig_event_trends.update_layout(\n",
    "    title=\"Price Trends Before and After Significant Events\",\n",
    "    xaxis=dict(title=\"Date\"),\n",
    "    yaxis=dict(title=\"Close Price\"),\n",
    "    plot_bgcolor='black',\n",
    "    paper_bgcolor='black',\n",
    "    font=dict(color='white'),\n",
    ")\n",
    "fig_event_trends.show()"
   ]
  },
  {
   "cell_type": "markdown",
   "id": "78964f55",
   "metadata": {
    "papermill": {
     "duration": 0.019786,
     "end_time": "2024-12-26T09:39:34.163602",
     "exception": false,
     "start_time": "2024-12-26T09:39:34.143816",
     "status": "completed"
    },
    "tags": []
   },
   "source": [
    "**Compare Market Performance During Bull and Bear Periods**"
   ]
  },
  {
   "cell_type": "code",
   "execution_count": 45,
   "id": "acbc89cb",
   "metadata": {
    "execution": {
     "iopub.execute_input": "2024-12-26T09:39:34.205721Z",
     "iopub.status.busy": "2024-12-26T09:39:34.205352Z",
     "iopub.status.idle": "2024-12-26T09:39:34.214008Z",
     "shell.execute_reply": "2024-12-26T09:39:34.212980Z"
    },
    "papermill": {
     "duration": 0.032114,
     "end_time": "2024-12-26T09:39:34.215718",
     "exception": false,
     "start_time": "2024-12-26T09:39:34.183604",
     "status": "completed"
    },
    "tags": []
   },
   "outputs": [],
   "source": [
    "bull_market = df[(df['Date'] >= '2010-01-01') & (df['Date'] <= '2014-12-31')]\n",
    "bear_market = df[(df['Date'] >= '2015-01-01') & (df['Date'] <= '2019-12-31')]"
   ]
  },
  {
   "cell_type": "code",
   "execution_count": 46,
   "id": "069655c4",
   "metadata": {
    "execution": {
     "iopub.execute_input": "2024-12-26T09:39:34.258559Z",
     "iopub.status.busy": "2024-12-26T09:39:34.258123Z",
     "iopub.status.idle": "2024-12-26T09:39:34.352137Z",
     "shell.execute_reply": "2024-12-26T09:39:34.351033Z"
    },
    "papermill": {
     "duration": 0.117098,
     "end_time": "2024-12-26T09:39:34.353932",
     "exception": false,
     "start_time": "2024-12-26T09:39:34.236834",
     "status": "completed"
    },
    "tags": []
   },
   "outputs": [
    {
     "data": {
      "text/html": [
       "<iframe\n",
       "    scrolling=\"no\"\n",
       "    width=\"100%\"\n",
       "    height=\"545px\"\n",
       "    src=\"iframe_figures/figure_46.html\"\n",
       "    frameborder=\"0\"\n",
       "    allowfullscreen\n",
       "></iframe>\n"
      ]
     },
     "metadata": {},
     "output_type": "display_data"
    }
   ],
   "source": [
    "fig_bull_bear = go.Figure()\n",
    "\n",
    "# Bull market\n",
    "fig_bull_bear.add_trace(\n",
    "    go.Scatter(\n",
    "        x=bull_market['Date'],\n",
    "        y=bull_market['Close'],\n",
    "        mode='lines',\n",
    "        line=dict(color='lime'),\n",
    "        name='Bull Market (2010-2014)'\n",
    "    )\n",
    ")\n",
    "\n",
    "# Bear market\n",
    "fig_bull_bear.add_trace(\n",
    "    go.Scatter(\n",
    "        x=bear_market['Date'],\n",
    "        y=bear_market['Close'],\n",
    "        mode='lines',\n",
    "        line=dict(color='red'),\n",
    "        name='Bear Market (2015-2019)'\n",
    "    )\n",
    ")\n",
    "\n",
    "fig_bull_bear.update_layout(\n",
    "    title=\"Market Performance During Bull and Bear Periods\",\n",
    "    xaxis=dict(title=\"Date\"),\n",
    "    yaxis=dict(title=\"Close Price\"),\n",
    "    plot_bgcolor='black',\n",
    "    paper_bgcolor='black',\n",
    "    font=dict(color='white'),\n",
    ")\n",
    "fig_bull_bear.show()"
   ]
  },
  {
   "cell_type": "markdown",
   "id": "4a528bbf",
   "metadata": {
    "papermill": {
     "duration": 0.020204,
     "end_time": "2024-12-26T09:39:34.396495",
     "exception": false,
     "start_time": "2024-12-26T09:39:34.376291",
     "status": "completed"
    },
    "tags": []
   },
   "source": [
    "### Highs and Lows"
   ]
  },
  {
   "cell_type": "code",
   "execution_count": 47,
   "id": "4d1f6383",
   "metadata": {
    "execution": {
     "iopub.execute_input": "2024-12-26T09:39:34.439245Z",
     "iopub.status.busy": "2024-12-26T09:39:34.438803Z",
     "iopub.status.idle": "2024-12-26T09:39:34.448623Z",
     "shell.execute_reply": "2024-12-26T09:39:34.447687Z"
    },
    "papermill": {
     "duration": 0.033225,
     "end_time": "2024-12-26T09:39:34.450357",
     "exception": false,
     "start_time": "2024-12-26T09:39:34.417132",
     "status": "completed"
    },
    "tags": []
   },
   "outputs": [],
   "source": [
    "# 1. Identify record high and low prices\n",
    "record_high = df.loc[df['High'].idxmax()]\n",
    "record_low = df.loc[df['Low'].idxmin()]\n",
    "\n",
    "# Highlighting periods of prolonged high or low performance\n",
    "# Define thresholds for prolonged high/low performance\n",
    "high_threshold = df['High'].mean() + df['High'].std()\n",
    "low_threshold = df['Low'].mean() - df['Low'].std()\n",
    "\n",
    "high_periods = df[df['High'] >= high_threshold]\n",
    "low_periods = df[df['Low'] <= low_threshold]"
   ]
  },
  {
   "cell_type": "markdown",
   "id": "fa9f66a9",
   "metadata": {
    "papermill": {
     "duration": 0.02034,
     "end_time": "2024-12-26T09:39:34.491048",
     "exception": false,
     "start_time": "2024-12-26T09:39:34.470708",
     "status": "completed"
    },
    "tags": []
   },
   "source": [
    "**Record High and Low Prices**"
   ]
  },
  {
   "cell_type": "code",
   "execution_count": 48,
   "id": "d3c3f0a4",
   "metadata": {
    "execution": {
     "iopub.execute_input": "2024-12-26T09:39:34.532589Z",
     "iopub.status.busy": "2024-12-26T09:39:34.532237Z",
     "iopub.status.idle": "2024-12-26T09:39:34.925212Z",
     "shell.execute_reply": "2024-12-26T09:39:34.924037Z"
    },
    "papermill": {
     "duration": 0.415726,
     "end_time": "2024-12-26T09:39:34.926966",
     "exception": false,
     "start_time": "2024-12-26T09:39:34.511240",
     "status": "completed"
    },
    "tags": []
   },
   "outputs": [
    {
     "data": {
      "text/html": [
       "<iframe\n",
       "    scrolling=\"no\"\n",
       "    width=\"100%\"\n",
       "    height=\"545px\"\n",
       "    src=\"iframe_figures/figure_48.html\"\n",
       "    frameborder=\"0\"\n",
       "    allowfullscreen\n",
       "></iframe>\n"
      ]
     },
     "metadata": {},
     "output_type": "display_data"
    }
   ],
   "source": [
    "fig_high_low = go.Figure()\n",
    "\n",
    "# Line chart of High prices\n",
    "fig_high_low.add_trace(\n",
    "    go.Scatter(\n",
    "        x=df['Date'],\n",
    "        y=df['High'],\n",
    "        mode='lines',\n",
    "        line=dict(color='lime'),\n",
    "        name='High Prices'\n",
    "    )\n",
    ")\n",
    "\n",
    "# Line chart of Low prices\n",
    "fig_high_low.add_trace(\n",
    "    go.Scatter(\n",
    "        x=df['Date'],\n",
    "        y=df['Low'],\n",
    "        mode='lines',\n",
    "        line=dict(color='red'),\n",
    "        name='Low Prices'\n",
    "    )\n",
    ")\n",
    "\n",
    "# Add markers for record high and low\n",
    "fig_high_low.add_trace(\n",
    "    go.Scatter(\n",
    "        x=[record_high['Date']],\n",
    "        y=[record_high['High']],\n",
    "        mode='markers+text',\n",
    "        marker=dict(color='cyan', size=10),\n",
    "        text=['Record High'],\n",
    "        textposition='top center',\n",
    "        name='Record High'\n",
    "    )\n",
    ")\n",
    "\n",
    "fig_high_low.add_trace(\n",
    "    go.Scatter(\n",
    "        x=[record_low['Date']],\n",
    "        y=[record_low['Low']],\n",
    "        mode='markers+text',\n",
    "        marker=dict(color='magenta', size=10),\n",
    "        text=['Record Low'],\n",
    "        textposition='bottom center',\n",
    "        name='Record Low'\n",
    "    )\n",
    ")\n",
    "\n",
    "fig_high_low.update_layout(\n",
    "    title=\"Record High and Low Prices with Dates\",\n",
    "    xaxis=dict(title=\"Date\"),\n",
    "    yaxis=dict(title=\"Price\"),\n",
    "    plot_bgcolor='black',\n",
    "    paper_bgcolor='black',\n",
    "    font=dict(color='white'),\n",
    ")\n",
    "fig_high_low.show()"
   ]
  },
  {
   "cell_type": "markdown",
   "id": "c8dc1dcc",
   "metadata": {
    "papermill": {
     "duration": 0.020524,
     "end_time": "2024-12-26T09:39:34.968043",
     "exception": false,
     "start_time": "2024-12-26T09:39:34.947519",
     "status": "completed"
    },
    "tags": []
   },
   "source": [
    "**Prolonged High and Low Performance**"
   ]
  },
  {
   "cell_type": "code",
   "execution_count": 49,
   "id": "2abd5c8c",
   "metadata": {
    "execution": {
     "iopub.execute_input": "2024-12-26T09:39:35.010567Z",
     "iopub.status.busy": "2024-12-26T09:39:35.010206Z",
     "iopub.status.idle": "2024-12-26T09:39:35.540782Z",
     "shell.execute_reply": "2024-12-26T09:39:35.539140Z"
    },
    "papermill": {
     "duration": 0.554268,
     "end_time": "2024-12-26T09:39:35.542920",
     "exception": false,
     "start_time": "2024-12-26T09:39:34.988652",
     "status": "completed"
    },
    "tags": []
   },
   "outputs": [
    {
     "data": {
      "text/html": [
       "<iframe\n",
       "    scrolling=\"no\"\n",
       "    width=\"100%\"\n",
       "    height=\"545px\"\n",
       "    src=\"iframe_figures/figure_49.html\"\n",
       "    frameborder=\"0\"\n",
       "    allowfullscreen\n",
       "></iframe>\n"
      ]
     },
     "metadata": {},
     "output_type": "display_data"
    }
   ],
   "source": [
    "fig_prolonged = go.Figure()\n",
    "\n",
    "# High threshold line\n",
    "fig_prolonged.add_trace(\n",
    "    go.Scatter(\n",
    "        x=df['Date'],\n",
    "        y=[high_threshold] * len(df),\n",
    "        mode='lines',\n",
    "        line=dict(color='lime', dash='dash'),\n",
    "        name='High Threshold'\n",
    "    )\n",
    ")\n",
    "\n",
    "# Low threshold line\n",
    "fig_prolonged.add_trace(\n",
    "    go.Scatter(\n",
    "        x=df['Date'],\n",
    "        y=[low_threshold] * len(df),\n",
    "        mode='lines',\n",
    "        line=dict(color='red', dash='dash'),\n",
    "        name='Low Threshold'\n",
    "    )\n",
    ")\n",
    "\n",
    "# Highlighted High Periods\n",
    "fig_prolonged.add_trace(\n",
    "    go.Scatter(\n",
    "        x=high_periods['Date'],\n",
    "        y=high_periods['High'],\n",
    "        mode='markers',\n",
    "        marker=dict(color='cyan', size=6),\n",
    "        name='Prolonged High Performance'\n",
    "    )\n",
    ")\n",
    "\n",
    "# Highlighted Low Periods\n",
    "fig_prolonged.add_trace(\n",
    "    go.Scatter(\n",
    "        x=low_periods['Date'],\n",
    "        y=low_periods['Low'],\n",
    "        mode='markers',\n",
    "        marker=dict(color='magenta', size=6),\n",
    "        name='Prolonged Low Performance'\n",
    "    )\n",
    ")\n",
    "\n",
    "fig_prolonged.update_layout(\n",
    "    title=\"Prolonged High and Low Performance Periods\",\n",
    "    xaxis=dict(title=\"Date\"),\n",
    "    yaxis=dict(title=\"Price\"),\n",
    "    plot_bgcolor='black',\n",
    "    paper_bgcolor='black',\n",
    "    font=dict(color='white'),\n",
    ")\n",
    "fig_prolonged.show()"
   ]
  },
  {
   "cell_type": "markdown",
   "id": "d8193273",
   "metadata": {
    "papermill": {
     "duration": 0.021088,
     "end_time": "2024-12-26T09:39:35.586832",
     "exception": false,
     "start_time": "2024-12-26T09:39:35.565744",
     "status": "completed"
    },
    "tags": []
   },
   "source": [
    "### Moving Averages"
   ]
  },
  {
   "cell_type": "code",
   "execution_count": 50,
   "id": "a8137dc9",
   "metadata": {
    "execution": {
     "iopub.execute_input": "2024-12-26T09:39:35.629561Z",
     "iopub.status.busy": "2024-12-26T09:39:35.629161Z",
     "iopub.status.idle": "2024-12-26T09:39:35.642964Z",
     "shell.execute_reply": "2024-12-26T09:39:35.641851Z"
    },
    "papermill": {
     "duration": 0.037786,
     "end_time": "2024-12-26T09:39:35.644990",
     "exception": false,
     "start_time": "2024-12-26T09:39:35.607204",
     "status": "completed"
    },
    "tags": []
   },
   "outputs": [],
   "source": [
    "# Calculate Moving Averages\n",
    "df['50_MA'] = df['Close'].rolling(window=50).mean()\n",
    "df['100_MA'] = df['Close'].rolling(window=100).mean()\n",
    "df['200_MA'] = df['Close'].rolling(window=200).mean()\n",
    "\n",
    "# Identify Golden Crosses and Death Crosses\n",
    "golden_crosses = df[(df['50_MA'] > df['200_MA']) & (df['50_MA'].shift(1) <= df['200_MA'].shift(1))]\n",
    "death_crosses = df[(df['50_MA'] < df['200_MA']) & (df['50_MA'].shift(1) >= df['200_MA'].shift(1))]"
   ]
  },
  {
   "cell_type": "markdown",
   "id": "8ce8aa0a",
   "metadata": {
    "papermill": {
     "duration": 0.020236,
     "end_time": "2024-12-26T09:39:35.686109",
     "exception": false,
     "start_time": "2024-12-26T09:39:35.665873",
     "status": "completed"
    },
    "tags": []
   },
   "source": [
    "**Moving Averages and Crosses**"
   ]
  },
  {
   "cell_type": "code",
   "execution_count": 51,
   "id": "664601ed",
   "metadata": {
    "execution": {
     "iopub.execute_input": "2024-12-26T09:39:35.728618Z",
     "iopub.status.busy": "2024-12-26T09:39:35.728256Z",
     "iopub.status.idle": "2024-12-26T09:39:36.532865Z",
     "shell.execute_reply": "2024-12-26T09:39:36.531791Z"
    },
    "papermill": {
     "duration": 0.827853,
     "end_time": "2024-12-26T09:39:36.534555",
     "exception": false,
     "start_time": "2024-12-26T09:39:35.706702",
     "status": "completed"
    },
    "tags": []
   },
   "outputs": [
    {
     "data": {
      "text/html": [
       "<iframe\n",
       "    scrolling=\"no\"\n",
       "    width=\"100%\"\n",
       "    height=\"545px\"\n",
       "    src=\"iframe_figures/figure_51.html\"\n",
       "    frameborder=\"0\"\n",
       "    allowfullscreen\n",
       "></iframe>\n"
      ]
     },
     "metadata": {},
     "output_type": "display_data"
    }
   ],
   "source": [
    "fig_moving_averages = go.Figure()\n",
    "\n",
    "# Plot Close Prices\n",
    "fig_moving_averages.add_trace(\n",
    "    go.Scatter(\n",
    "        x=df['Date'],\n",
    "        y=df['Close'],\n",
    "        mode='lines',\n",
    "        line=dict(color='white'),\n",
    "        name='Close Price'\n",
    "    )\n",
    ")\n",
    "\n",
    "# Plot 50-Day Moving Average\n",
    "fig_moving_averages.add_trace(\n",
    "    go.Scatter(\n",
    "        x=df['Date'],\n",
    "        y=df['50_MA'],\n",
    "        mode='lines',\n",
    "        line=dict(color='lime'),\n",
    "        name='50-Day MA'\n",
    "    )\n",
    ")\n",
    "\n",
    "# Plot 100-Day Moving Average\n",
    "fig_moving_averages.add_trace(\n",
    "    go.Scatter(\n",
    "        x=df['Date'],\n",
    "        y=df['100_MA'],\n",
    "        mode='lines',\n",
    "        line=dict(color='cyan'),\n",
    "        name='100-Day MA'\n",
    "    )\n",
    ")\n",
    "\n",
    "# Plot 200-Day Moving Average\n",
    "fig_moving_averages.add_trace(\n",
    "    go.Scatter(\n",
    "        x=df['Date'],\n",
    "        y=df['200_MA'],\n",
    "        mode='lines',\n",
    "        line=dict(color='magenta'),\n",
    "        name='200-Day MA'\n",
    "    )\n",
    ")\n",
    "\n",
    "# Plot Golden Crosses\n",
    "fig_moving_averages.add_trace(\n",
    "    go.Scatter(\n",
    "        x=golden_crosses['Date'],\n",
    "        y=golden_crosses['Close'],\n",
    "        mode='markers+text',\n",
    "        marker=dict(color='yellow', size=10),\n",
    "        text=['Golden Cross'] * len(golden_crosses),\n",
    "        textposition='top center',\n",
    "        name='Golden Cross'\n",
    "    )\n",
    ")\n",
    "\n",
    "# Plot Death Crosses\n",
    "fig_moving_averages.add_trace(\n",
    "    go.Scatter(\n",
    "        x=death_crosses['Date'],\n",
    "        y=death_crosses['Close'],\n",
    "        mode='markers+text',\n",
    "        marker=dict(color='red', size=10),\n",
    "        text=['Death Cross'] * len(death_crosses),\n",
    "        textposition='bottom center',\n",
    "        name='Death Cross'\n",
    "    )\n",
    ")\n",
    "fig_moving_averages.update_layout(\n",
    "    title=\"Moving Averages with Golden and Death Crosses\",\n",
    "    xaxis=dict(title=\"Date\"),\n",
    "    yaxis=dict(title=\"Price\"),\n",
    "    plot_bgcolor='black',\n",
    "    paper_bgcolor='black',\n",
    "    font=dict(color='white'),\n",
    "    legend=dict(orientation=\"h\", yanchor=\"bottom\", y=1.02, xanchor=\"center\", x=0.5)\n",
    ")\n",
    "fig_moving_averages.show()"
   ]
  },
  {
   "cell_type": "markdown",
   "id": "ca56e421",
   "metadata": {
    "papermill": {
     "duration": 0.020219,
     "end_time": "2024-12-26T09:39:36.575802",
     "exception": false,
     "start_time": "2024-12-26T09:39:36.555583",
     "status": "completed"
    },
    "tags": []
   },
   "source": [
    "### Anomaly Detection"
   ]
  },
  {
   "cell_type": "code",
   "execution_count": 52,
   "id": "e7b61807",
   "metadata": {
    "execution": {
     "iopub.execute_input": "2024-12-26T09:39:36.618964Z",
     "iopub.status.busy": "2024-12-26T09:39:36.618567Z",
     "iopub.status.idle": "2024-12-26T09:39:36.630849Z",
     "shell.execute_reply": "2024-12-26T09:39:36.629994Z"
    },
    "papermill": {
     "duration": 0.036319,
     "end_time": "2024-12-26T09:39:36.632743",
     "exception": false,
     "start_time": "2024-12-26T09:39:36.596424",
     "status": "completed"
    },
    "tags": []
   },
   "outputs": [],
   "source": [
    "# Calculate percentage changes for Close prices and Volume\n",
    "df['Price_Change'] = df['Close'].pct_change() * 100  # Percentage change in price\n",
    "df['Volume_Change'] = df['Volume'].pct_change() * 100  # Percentage change in volume\n",
    "\n",
    "# Define thresholds for anomalies (3 standard deviations from the mean)\n",
    "price_threshold = 3 * df['Price_Change'].std()\n",
    "volume_threshold = 3 * df['Volume_Change'].std()\n",
    "\n",
    "# Identify anomalies\n",
    "price_anomalies = df[np.abs(df['Price_Change']) > price_threshold]\n",
    "volume_anomalies = df[np.abs(df['Volume_Change']) > volume_threshold]"
   ]
  },
  {
   "cell_type": "markdown",
   "id": "60eb279f",
   "metadata": {
    "papermill": {
     "duration": 0.019966,
     "end_time": "2024-12-26T09:39:36.673156",
     "exception": false,
     "start_time": "2024-12-26T09:39:36.653190",
     "status": "completed"
    },
    "tags": []
   },
   "source": [
    "**Anomalies in price changes**"
   ]
  },
  {
   "cell_type": "code",
   "execution_count": 53,
   "id": "4d7b1b03",
   "metadata": {
    "execution": {
     "iopub.execute_input": "2024-12-26T09:39:36.715335Z",
     "iopub.status.busy": "2024-12-26T09:39:36.714987Z",
     "iopub.status.idle": "2024-12-26T09:39:36.954987Z",
     "shell.execute_reply": "2024-12-26T09:39:36.953998Z"
    },
    "papermill": {
     "duration": 0.262812,
     "end_time": "2024-12-26T09:39:36.956628",
     "exception": false,
     "start_time": "2024-12-26T09:39:36.693816",
     "status": "completed"
    },
    "tags": []
   },
   "outputs": [
    {
     "data": {
      "text/html": [
       "<iframe\n",
       "    scrolling=\"no\"\n",
       "    width=\"100%\"\n",
       "    height=\"545px\"\n",
       "    src=\"iframe_figures/figure_53.html\"\n",
       "    frameborder=\"0\"\n",
       "    allowfullscreen\n",
       "></iframe>\n"
      ]
     },
     "metadata": {},
     "output_type": "display_data"
    }
   ],
   "source": [
    "fig_price_anomalies = go.Figure()\n",
    "\n",
    "# Normal Price Change\n",
    "fig_price_anomalies.add_trace(\n",
    "    go.Scatter(\n",
    "        x=df['Date'],\n",
    "        y=df['Price_Change'],\n",
    "        mode='lines',\n",
    "        line=dict(color='cyan'),\n",
    "        name='Price Change (%)'\n",
    "    )\n",
    ")\n",
    "\n",
    "# Anomalies in Price Change\n",
    "fig_price_anomalies.add_trace(\n",
    "    go.Scatter(\n",
    "        x=price_anomalies['Date'],\n",
    "        y=price_anomalies['Price_Change'],\n",
    "        mode='markers+text',\n",
    "        marker=dict(color='red', size=8),\n",
    "        text=[\"Anomaly\"] * len(price_anomalies),\n",
    "        textposition='top center',\n",
    "        name='Price Anomaly'\n",
    "    )\n",
    ")\n",
    "\n",
    "# Update Layout\n",
    "fig_price_anomalies.update_layout(\n",
    "    title=\"Anomaly Detection: Extreme Price Changes\",\n",
    "    xaxis=dict(title=\"Date\"),\n",
    "    yaxis=dict(title=\"Price Change (%)\"),\n",
    "    plot_bgcolor='black',\n",
    "    paper_bgcolor='black',\n",
    "    font=dict(color='white'),\n",
    "    legend=dict(orientation=\"h\", yanchor=\"bottom\", y=1.02, xanchor=\"center\", x=0.5)\n",
    ")\n",
    "fig_price_anomalies.show()"
   ]
  },
  {
   "cell_type": "markdown",
   "id": "9e656a87",
   "metadata": {
    "papermill": {
     "duration": 0.020218,
     "end_time": "2024-12-26T09:39:36.997656",
     "exception": false,
     "start_time": "2024-12-26T09:39:36.977438",
     "status": "completed"
    },
    "tags": []
   },
   "source": [
    "**Anomalies in volume changes**"
   ]
  },
  {
   "cell_type": "code",
   "execution_count": 54,
   "id": "951a02bf",
   "metadata": {
    "execution": {
     "iopub.execute_input": "2024-12-26T09:39:37.041921Z",
     "iopub.status.busy": "2024-12-26T09:39:37.041544Z",
     "iopub.status.idle": "2024-12-26T09:39:37.280294Z",
     "shell.execute_reply": "2024-12-26T09:39:37.279354Z"
    },
    "papermill": {
     "duration": 0.262554,
     "end_time": "2024-12-26T09:39:37.282003",
     "exception": false,
     "start_time": "2024-12-26T09:39:37.019449",
     "status": "completed"
    },
    "tags": []
   },
   "outputs": [
    {
     "data": {
      "text/html": [
       "<iframe\n",
       "    scrolling=\"no\"\n",
       "    width=\"100%\"\n",
       "    height=\"545px\"\n",
       "    src=\"iframe_figures/figure_54.html\"\n",
       "    frameborder=\"0\"\n",
       "    allowfullscreen\n",
       "></iframe>\n"
      ]
     },
     "metadata": {},
     "output_type": "display_data"
    }
   ],
   "source": [
    "fig_volume_anomalies = go.Figure()\n",
    "\n",
    "# Normal Volume Change\n",
    "fig_volume_anomalies.add_trace(\n",
    "    go.Scatter(\n",
    "        x=df['Date'],\n",
    "        y=df['Volume_Change'],\n",
    "        mode='lines',\n",
    "        line=dict(color='lime'),\n",
    "        name='Volume Change (%)'\n",
    "    )\n",
    ")\n",
    "\n",
    "# Anomalies in Volume Change\n",
    "fig_volume_anomalies.add_trace(\n",
    "    go.Scatter(\n",
    "        x=volume_anomalies['Date'],\n",
    "        y=volume_anomalies['Volume_Change'],\n",
    "        mode='markers+text',\n",
    "        marker=dict(color='orange', size=8),\n",
    "        text=[\"Anomaly\"] * len(volume_anomalies),\n",
    "        textposition='top center',\n",
    "        name='Volume Anomaly'\n",
    "    )\n",
    ")\n",
    "fig_volume_anomalies.update_layout(\n",
    "    title=\"Anomaly Detection: Extreme Volume Changes\",\n",
    "    xaxis=dict(title=\"Date\"),\n",
    "    yaxis=dict(title=\"Volume Change (%)\"),\n",
    "    plot_bgcolor='black',\n",
    "    paper_bgcolor='black',\n",
    "    font=dict(color='white'),\n",
    "    legend=dict(orientation=\"h\", yanchor=\"bottom\", y=1.02, xanchor=\"center\", x=0.5)\n",
    ")\n",
    "fig_volume_anomalies.show()"
   ]
  }
 ],
 "metadata": {
  "kaggle": {
   "accelerator": "none",
   "dataSources": [
    {
     "datasetId": 6373313,
     "sourceId": 10297033,
     "sourceType": "datasetVersion"
    }
   ],
   "dockerImageVersionId": 30822,
   "isGpuEnabled": false,
   "isInternetEnabled": true,
   "language": "python",
   "sourceType": "notebook"
  },
  "kernelspec": {
   "display_name": "Python 3",
   "language": "python",
   "name": "python3"
  },
  "language_info": {
   "codemirror_mode": {
    "name": "ipython",
    "version": 3
   },
   "file_extension": ".py",
   "mimetype": "text/x-python",
   "name": "python",
   "nbconvert_exporter": "python",
   "pygments_lexer": "ipython3",
   "version": "3.10.12"
  },
  "papermill": {
   "default_parameters": {},
   "duration": 16.81756,
   "end_time": "2024-12-26T09:39:38.065595",
   "environment_variables": {},
   "exception": null,
   "input_path": "__notebook__.ipynb",
   "output_path": "__notebook__.ipynb",
   "parameters": {},
   "start_time": "2024-12-26T09:39:21.248035",
   "version": "2.6.0"
  }
 },
 "nbformat": 4,
 "nbformat_minor": 5
}
